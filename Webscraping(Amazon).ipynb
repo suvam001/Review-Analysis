{
 "cells": [
  {
   "cell_type": "code",
   "execution_count": 1,
   "id": "29474efd",
   "metadata": {},
   "outputs": [],
   "source": [
    "from bs4 import BeautifulSoup\n",
    "from selenium import webdriver\n",
    "from selenium.webdriver.common.keys import Keys\n",
    "import pandas as pd\n",
    "import time"
   ]
  },
  {
   "cell_type": "code",
   "execution_count": 2,
   "id": "90717b93",
   "metadata": {},
   "outputs": [
    {
     "data": {
      "text/html": [
       "<div>\n",
       "<style scoped>\n",
       "    .dataframe tbody tr th:only-of-type {\n",
       "        vertical-align: middle;\n",
       "    }\n",
       "\n",
       "    .dataframe tbody tr th {\n",
       "        vertical-align: top;\n",
       "    }\n",
       "\n",
       "    .dataframe thead th {\n",
       "        text-align: right;\n",
       "    }\n",
       "</style>\n",
       "<table border=\"1\" class=\"dataframe\">\n",
       "  <thead>\n",
       "    <tr style=\"text-align: right;\">\n",
       "      <th></th>\n",
       "      <th>Reviewer Name</th>\n",
       "      <th>Date</th>\n",
       "      <th>Title</th>\n",
       "      <th>Review</th>\n",
       "      <th>No. of people found helpful</th>\n",
       "    </tr>\n",
       "  </thead>\n",
       "  <tbody>\n",
       "  </tbody>\n",
       "</table>\n",
       "</div>"
      ],
      "text/plain": [
       "Empty DataFrame\n",
       "Columns: [Reviewer Name, Date, Title, Review, No. of people found helpful]\n",
       "Index: []"
      ]
     },
     "execution_count": 2,
     "metadata": {},
     "output_type": "execute_result"
    }
   ],
   "source": [
    "column_names = [\"Reviewer Name\", \"Date\", \"Title\", \"Review\",\"No. of people found helpful\"]\n",
    "df = pd.DataFrame(columns = column_names)\n",
    "df"
   ]
  },
  {
   "cell_type": "code",
   "execution_count": 3,
   "id": "62f947ef",
   "metadata": {},
   "outputs": [],
   "source": [
    "# Links used : \n",
    "#https://www.amazon.com/Apple-iPhone-64GB-Gold-Unlocked/product-reviews/B08BJJ1T9F/ref=cm_cr_getr_d_paging_btm_prev_1?ie=UTF8&reviewerType=all_reviews&pageNumber=1\n",
    "#https://www.amazon.com/OnePlus-Unlocked-Smartphone-Hasselblad-Wireless/product-reviews/B08Y73NTXY/ref=cm_cr_dp_d_show_all_btm?ie=UTF8&reviewerType=all_reviews"
   ]
  },
  {
   "cell_type": "code",
   "execution_count": 4,
   "id": "a5e53f34",
   "metadata": {},
   "outputs": [],
   "source": [
    "url = \"https://www.amazon.com/OnePlus-Unlocked-Smartphone-Hasselblad-Wireless/product-reviews/B08Y73NTXY/ref=cm_cr_dp_d_show_all_btm?ie=UTF8&reviewerType=all_reviews\""
   ]
  },
  {
   "cell_type": "code",
   "execution_count": 5,
   "id": "ff61aa10",
   "metadata": {
    "scrolled": true
   },
   "outputs": [
    {
     "name": "stderr",
     "output_type": "stream",
     "text": [
      "/tmp/ipykernel_6618/4267459955.py:1: DeprecationWarning: executable_path has been deprecated, please pass in a Service object\n",
      "  driver = webdriver.Chrome(executable_path='/home/suvam/Downloads/asd/chromedriver')\n"
     ]
    }
   ],
   "source": [
    "driver = webdriver.Chrome(executable_path='/home/suvam/Downloads/asd/chromedriver')"
   ]
  },
  {
   "cell_type": "code",
   "execution_count": 6,
   "id": "c37639c4",
   "metadata": {},
   "outputs": [],
   "source": [
    "driver.get(url)"
   ]
  },
  {
   "cell_type": "code",
   "execution_count": 7,
   "id": "93084234",
   "metadata": {},
   "outputs": [],
   "source": [
    "def click(p):\n",
    "    try:\n",
    "        p.click()\n",
    "    except:\n",
    "        pass"
   ]
  },
  {
   "cell_type": "code",
   "execution_count": 8,
   "id": "16454a62",
   "metadata": {},
   "outputs": [
    {
     "name": "stderr",
     "output_type": "stream",
     "text": [
      "/tmp/ipykernel_6618/2247161628.py:1: DeprecationWarning: find_elements_by_xpath is deprecated. Please use find_elements(by=By.XPATH, value=xpath) instead\n",
      "  xx = driver.find_elements_by_xpath(\"//span[@class='a-profile-name']\")\n"
     ]
    }
   ],
   "source": [
    "xx = driver.find_elements_by_xpath(\"//span[@class='a-profile-name']\")"
   ]
  },
  {
   "cell_type": "code",
   "execution_count": 9,
   "id": "85716527",
   "metadata": {},
   "outputs": [],
   "source": [
    "rev=[]\n",
    "reviews = []\n",
    "title = []"
   ]
  },
  {
   "cell_type": "code",
   "execution_count": null,
   "id": "1e2df993",
   "metadata": {
    "scrolled": true
   },
   "outputs": [
    {
     "name": "stderr",
     "output_type": "stream",
     "text": [
      "/tmp/ipykernel_6618/3382730425.py:2: DeprecationWarning: find_elements_by_xpath is deprecated. Please use find_elements(by=By.XPATH, value=xpath) instead\n",
      "  containers = [x.get_attribute('innerHTML') for x in driver.find_elements_by_xpath(\"//div[@class='a-section celwidget']\")]\n",
      "/tmp/ipykernel_6618/3382730425.py:14: DeprecationWarning: find_elements_by_xpath is deprecated. Please use find_elements(by=By.XPATH, value=xpath) instead\n",
      "  for elem in driver.find_elements_by_xpath('//span[@class = \"a-size-base review-text review-text-content\"]'):\n",
      "/tmp/ipykernel_6618/3382730425.py:18: DeprecationWarning: find_elements_by_xpath is deprecated. Please use find_elements(by=By.XPATH, value=xpath) instead\n",
      "  for x in driver.find_elements_by_xpath(\"//a[@class='a-size-base a-link-normal review-title a-color-base review-title-content a-text-bold']/span\"):\n",
      "/tmp/ipykernel_6618/3382730425.py:25: DeprecationWarning: find_element_by_partial_link_text is deprecated. Please use find_element(by=By.PARTIAL_LINK_TEXT, value=link_text) instead\n",
      "  __ = driver.find_element_by_partial_link_text(\"Next\").click()\n"
     ]
    }
   ],
   "source": [
    "for i in range(3):\n",
    "    containers = [x.get_attribute('innerHTML') for x in driver.find_elements_by_xpath(\"//div[@class='a-section celwidget']\")]\n",
    "    time.sleep(2)\n",
    "    len(containers)\n",
    "    \n",
    "#reviewer name\n",
    "    for container in containers:\n",
    "        doc = BeautifulSoup(container)\n",
    "        r_name = doc.find(\"div\", {\"class\":\"a-profile-content\"}).text\n",
    "        rev.append(r_name)\n",
    "        time.sleep(2)\n",
    "        \n",
    "#Getting reviews\n",
    "    for elem in driver.find_elements_by_xpath('//span[@class = \"a-size-base review-text review-text-content\"]'):\n",
    "        reviews.append(elem.text)\n",
    "        time.sleep(2)\n",
    "#Getting titles\n",
    "    for x in driver.find_elements_by_xpath(\"//a[@class='a-size-base a-link-normal review-title a-color-base review-title-content a-text-bold']/span\"):\n",
    "        title.append(x.text)\n",
    "        #print(title[1])\n",
    "        time.sleep(2)\n",
    "\n",
    "#Click on next button\n",
    "    time.sleep(2)\n",
    "    __ = driver.find_element_by_partial_link_text(\"Next\").click()"
   ]
  },
  {
   "cell_type": "code",
   "execution_count": null,
   "id": "8321c28f",
   "metadata": {},
   "outputs": [],
   "source": [
    "# dictionary of lists  \n",
    "dict = {'name': rev, 'review': reviews, 'title': title}  \n",
    "       \n",
    "df = pd.DataFrame(dict) \n",
    "    \n",
    "# saving the dataframe \n",
    "df.to_csv('df1.csv') "
   ]
  },
  {
   "cell_type": "code",
   "execution_count": null,
   "id": "5c29e939",
   "metadata": {},
   "outputs": [],
   "source": [
    "rate = []\n",
    "containers = [x.get_attribute('innerHTML') for x in driver.find_elements_by_xpath(\"//div[@class='a-section celwidget']\")]\n",
    "\n",
    "len(containers)"
   ]
  },
  {
   "cell_type": "code",
   "execution_count": null,
   "id": "a6caf6ce",
   "metadata": {},
   "outputs": [],
   "source": [
    "df = pd.read_csv('/home/suvam/Downloads/asd/df.csv')"
   ]
  },
  {
   "cell_type": "code",
   "execution_count": null,
   "id": "af8e3c02",
   "metadata": {},
   "outputs": [],
   "source": [
    "df"
   ]
  },
  {
   "cell_type": "code",
   "execution_count": null,
   "id": "5d3a33b9",
   "metadata": {},
   "outputs": [],
   "source": [
    "#a-icon-alt\n",
    "for y in driver.find_elements_by_xpath(\".//a[@class='a-icon-alt']/span\"):\n",
    "    title.append(y.text)"
   ]
  },
  {
   "cell_type": "code",
   "execution_count": null,
   "id": "6d83dcf5",
   "metadata": {},
   "outputs": [],
   "source": [
    "title[0]"
   ]
  },
  {
   "cell_type": "code",
   "execution_count": null,
   "id": "c3ffd5ae",
   "metadata": {},
   "outputs": [],
   "source": [
    "rating = []\n",
    "for container in containers:\n",
    "    doc = BeautifulSoup(container)\n",
    "    r_name = doc.find(\"span\", {\"class\":\"a-icon-alt\"}).text\n",
    "    rating.append(r_name)"
   ]
  },
  {
   "cell_type": "code",
   "execution_count": null,
   "id": "f698e943",
   "metadata": {},
   "outputs": [],
   "source": [
    "rating[0]"
   ]
  },
  {
   "cell_type": "code",
   "execution_count": null,
   "id": "27e07507",
   "metadata": {},
   "outputs": [],
   "source": []
  }
 ],
 "metadata": {
  "kernelspec": {
   "display_name": "Python 3 (ipykernel)",
   "language": "python",
   "name": "python3"
  },
  "language_info": {
   "codemirror_mode": {
    "name": "ipython",
    "version": 3
   },
   "file_extension": ".py",
   "mimetype": "text/x-python",
   "name": "python",
   "nbconvert_exporter": "python",
   "pygments_lexer": "ipython3",
   "version": "3.9.7"
  }
 },
 "nbformat": 4,
 "nbformat_minor": 5
}
