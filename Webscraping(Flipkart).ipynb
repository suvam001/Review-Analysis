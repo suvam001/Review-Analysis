{
 "cells": [
  {
   "cell_type": "code",
   "execution_count": 1,
   "id": "8aad058c",
   "metadata": {},
   "outputs": [],
   "source": [
    "from selenium import webdriver\n",
    "import time\n",
    "from bs4 import BeautifulSoup\n",
    "import numpy as np\n",
    "import pandas as pd"
   ]
  },
  {
   "cell_type": "code",
   "execution_count": 2,
   "id": "1f056b00",
   "metadata": {},
   "outputs": [],
   "source": [
    "url = \"https://www.flipkart.com/vivo-t1-5g-rainbow-fantasy-128-gb/product-reviews/itm594222523bd8f?pid=MOBGB9TYGW5NGXVH&lid=LSTMOBGB9TYGW5NGXVHAMNS12&marketplace=FLIPKART&page=1\""
   ]
  },
  {
   "cell_type": "code",
   "execution_count": 3,
   "id": "27f33c95",
   "metadata": {},
   "outputs": [
    {
     "name": "stderr",
     "output_type": "stream",
     "text": [
      "<ipython-input-3-5e0f81d63399>:1: DeprecationWarning: executable_path has been deprecated, please pass in a Service object\n",
      "  browser = webdriver.Chrome(executable_path=r'C:\\Users\\rajde\\Downloads\\chromedriver.exe')\n"
     ]
    }
   ],
   "source": [
    "browser = webdriver.Chrome(executable_path=r'C:\\Users\\rajde\\Downloads\\chromedriver.exe')"
   ]
  },
  {
   "cell_type": "code",
   "execution_count": 4,
   "id": "e3ff55a3",
   "metadata": {},
   "outputs": [],
   "source": [
    "browser.get(url)"
   ]
  },
  {
   "cell_type": "code",
   "execution_count": 5,
   "id": "858c63d4",
   "metadata": {},
   "outputs": [],
   "source": [
    "def click(p):\n",
    "    try:\n",
    "        p.click()\n",
    "    except:\n",
    "        pass"
   ]
  },
  {
   "cell_type": "markdown",
   "id": "757d8403",
   "metadata": {},
   "source": [
    "### Clicking on \"READ MORE\" for each review"
   ]
  },
  {
   "cell_type": "code",
   "execution_count": 6,
   "id": "4a99c95d",
   "metadata": {},
   "outputs": [
    {
     "name": "stderr",
     "output_type": "stream",
     "text": [
      "<ipython-input-6-c54e5f52276f>:1: DeprecationWarning: find_elements_by_* commands are deprecated. Please use find_elements() instead\n",
      "  xx = browser.find_elements_by_xpath(\"//span[@class ='_1BWGvX']\")\n"
     ]
    },
    {
     "data": {
      "text/plain": [
       "[<selenium.webdriver.remote.webelement.WebElement (session=\"1ec5bcb947eb3e7a5f2fecdd692ff1a9\", element=\"f59c5c2c-ad54-42f7-be3f-b22234c4adb0\")>]"
      ]
     },
     "execution_count": 6,
     "metadata": {},
     "output_type": "execute_result"
    }
   ],
   "source": [
    "xx = browser.find_elements_by_xpath(\"//span[@class ='_1BWGvX']\")\n",
    "xx[:]"
   ]
  },
  {
   "cell_type": "code",
   "execution_count": 7,
   "id": "5dad078f",
   "metadata": {},
   "outputs": [],
   "source": [
    "x = [click(x) for x in xx]"
   ]
  },
  {
   "cell_type": "code",
   "execution_count": 8,
   "id": "1da7f035",
   "metadata": {
    "scrolled": true
   },
   "outputs": [
    {
     "name": "stderr",
     "output_type": "stream",
     "text": [
      "<ipython-input-8-6ae9aa6474a0>:1: DeprecationWarning: find_elements_by_* commands are deprecated. Please use find_elements() instead\n",
      "  containers = [x.get_attribute('innerHTML') for x in  browser.find_elements_by_xpath(\"//div[@class='col _2wzgFH K0kLPL']\")]\n"
     ]
    }
   ],
   "source": [
    "containers = [x.get_attribute('innerHTML') for x in  browser.find_elements_by_xpath(\"//div[@class='col _2wzgFH K0kLPL']\")]"
   ]
  },
  {
   "cell_type": "code",
   "execution_count": 9,
   "id": "66cd4d53",
   "metadata": {},
   "outputs": [
    {
     "data": {
      "text/plain": [
       "10"
      ]
     },
     "execution_count": 9,
     "metadata": {},
     "output_type": "execute_result"
    }
   ],
   "source": [
    "len(containers)"
   ]
  },
  {
   "cell_type": "code",
   "execution_count": 10,
   "id": "07fdf53e",
   "metadata": {
    "scrolled": true
   },
   "outputs": [
    {
     "data": {
      "text/plain": [
       "['<div class=\"row\"><div class=\"_3LWZlK _1BLPMq\">5<img src=\"data:image/svg+xml;base64,PHN2ZyB4bWxucz0iaHR0cDovL3d3dy53My5vcmcvMjAwMC9zdmciIHdpZHRoPSIxMyIgaGVpZ2h0PSIxMiI+PHBhdGggZmlsbD0iI0ZGRiIgZD0iTTYuNSA5LjQzOWwtMy42NzQgMi4yMy45NC00LjI2LTMuMjEtMi44ODMgNC4yNTQtLjQwNEw2LjUuMTEybDEuNjkgNC4wMSA0LjI1NC40MDQtMy4yMSAyLjg4Mi45NCA0LjI2eiIvPjwvc3ZnPg==\" class=\"_1wB99o\"></div><p class=\"_2-N8zT\">Fabulous!</p></div><div class=\"row\"><div class=\"t-ZTKy\"><div><div class=\"\">superb phone <br>i am very happy to buy it<br>colour camara and screen was fantastic <br>i really love it <br>thanku 😊😊</div><span class=\"_1H-bmy\"><span>READ MORE</span></span></div></div></div><div class=\"_2nMSwX _3oLIki\"><div class=\"_21YjFX _2A07HP\" style=\"background-image: url(&quot;https://rukminim1.flixcart.com/blobio/124/124/imr-202202/blobio-imr-202202_c471c35a76124de8b3803e462891a891.jpg?q=90&quot;), url(&quot;data:image/svg+xml;base64,PHN2ZyB3aWR0aD0iMjIiIGhlaWdodD0iMTgiIHhtbG5zPSJodHRwOi8vd3d3LnczLm9yZy8yMDAwL3N2ZyI+PGcgZmlsbD0iIzlEOUQ5RCIgZmlsbC1ydWxlPSJub256ZXJvIj48cGF0aCBkPSJNMjAgMEgyQzEgMCAwIDEgMCAydjE0YzAgMS4xLjkgMiAyIDJoMThjMSAwIDItMSAyLTJWMmMwLTEtMS0yLTItMnptMCAxNS45MmMtLjAyLjAzLS4wNi4wNi0uMDguMDhIMlYyLjA4TDIuMDggMmgxNy44M2MuMDMuMDIuMDYuMDYuMDguMDh2MTMuODRIMjB6Ii8+PHBhdGggZD0iTTEwIDEyLjUxTDcuNSA5LjUgNCAxNGgxNGwtNC41LTZ6Ii8+PC9nPjwvc3ZnPg==&quot;); width: 62px; height: 62px;\"></div><div class=\"_21YjFX _2A07HP\" style=\"background-image: url(&quot;https://rukminim1.flixcart.com/blobio/124/124/imr-202202/blobio-imr-202202_5019161ace454c2f916d140fa6b19be6.jpg?q=90&quot;), url(&quot;data:image/svg+xml;base64,PHN2ZyB3aWR0aD0iMjIiIGhlaWdodD0iMTgiIHhtbG5zPSJodHRwOi8vd3d3LnczLm9yZy8yMDAwL3N2ZyI+PGcgZmlsbD0iIzlEOUQ5RCIgZmlsbC1ydWxlPSJub256ZXJvIj48cGF0aCBkPSJNMjAgMEgyQzEgMCAwIDEgMCAydjE0YzAgMS4xLjkgMiAyIDJoMThjMSAwIDItMSAyLTJWMmMwLTEtMS0yLTItMnptMCAxNS45MmMtLjAyLjAzLS4wNi4wNi0uMDguMDhIMlYyLjA4TDIuMDggMmgxNy44M2MuMDMuMDIuMDYuMDYuMDguMDh2MTMuODRIMjB6Ii8+PHBhdGggZD0iTTEwIDEyLjUxTDcuNSA5LjUgNCAxNGgxNGwtNC41LTZ6Ii8+PC9nPjwvc3ZnPg==&quot;); width: 62px; height: 62px;\"></div></div><div class=\"row _3n8db9\"><div class=\"row\"><p class=\"_2sc7ZR _2V5EHH\">Flipkart Customer</p><svg width=\"14\" height=\"14\" viewBox=\"0 0 12 12\" xmlns=\"http://www.w3.org/2000/svg\" class=\"_2a1p_T\"><g><circle cx=\"6\" cy=\"6\" r=\"6\" fill=\"#878787\"></circle><path stroke=\"#FFF\" stroke-width=\"1.5\" d=\"M3 6l2 2 4-4\" fill=\"#878787\"></path></g></svg><p id=\"review-24f45f34-6484-4c3f-bd65-08df2b139b6e\" class=\"_2mcZGG\"><span>Certified Buyer</span><span>, Bulandshahr District</span></p><div></div><p class=\"_2sc7ZR\">14 days ago</p></div><div class=\"_1e9_Zu\"><div class=\"row\"><div class=\"_27aTsS\"><div class=\"_1LmwT9\"><svg width=\"20\" height=\"15\" xmlns=\"http://www.w3.org/2000/svg\" class=\"skCrcq\"><path fill=\"#fff\" class=\"_1LIt4y\" d=\"M9.58.006c-.41.043-.794.32-1.01.728-.277.557-2.334 4.693-2.74 5.1-.41.407-.944.6-1.544.6v8.572h7.5c.45 0 .835-.28 1.007-.665 0 0 2.207-6.234 2.207-6.834 0-.6-.47-1.072-1.07-1.072h-3.216c-.6 0-1.07-.535-1.07-1.07 0-.537.835-3.387 1.006-3.944.17-.557-.107-1.157-.664-1.35-.15-.043-.257-.086-.407-.064zM0 6.434v8.572h2.143V6.434H0z\" fill-rule=\"evenodd\"></path></svg><span class=\"_3c3Px5\">183</span></div><div class=\"_1LmwT9 pkR4jH\"><svg width=\"20\" height=\"15\" xmlns=\"http://www.w3.org/2000/svg\" class=\"skCrcq pkR4jH\"><path fill=\"#fff\" class=\"_1LIt4y\" d=\"M9.58.006c-.41.043-.794.32-1.01.728-.277.557-2.334 4.693-2.74 5.1-.41.407-.944.6-1.544.6v8.572h7.5c.45 0 .835-.28 1.007-.665 0 0 2.207-6.234 2.207-6.834 0-.6-.47-1.072-1.07-1.072h-3.216c-.6 0-1.07-.535-1.07-1.07 0-.537.835-3.387 1.006-3.944.17-.557-.107-1.157-.664-1.35-.15-.043-.257-.086-.407-.064zM0 6.434v8.572h2.143V6.434H0z\" fill-rule=\"evenodd\"></path></svg><span class=\"_3c3Px5\">27</span></div></div><div class=\"_2bmov8\"><svg width=\"6\" height=\"11\" viewBox=\"0 0 16 27\" xmlns=\"http://www.w3.org/2000/svg\" class=\"_2UvOBb\"><path d=\"M16 23.207L6.11 13.161 16 3.093 12.955 0 0 13.161l12.955 13.161z\" fill=\"#fff\" class=\"_2aPE6f\"></path></svg><div class=\"_3E8aIl _38dCuf\"><div class=\"_3XCI6U\"><a href=\"/reviews/24f45f34-6484-4c3f-bd65-08df2b139b6e\"><span>Permalink</span></a></div><div class=\"_3XCI6U _2b2z-j\"><span>Report Abuse</span></div></div></div></div></div></div>',\n",
       " '<div class=\"row\"><div class=\"_3LWZlK _1BLPMq\">3<img src=\"data:image/svg+xml;base64,PHN2ZyB4bWxucz0iaHR0cDovL3d3dy53My5vcmcvMjAwMC9zdmciIHdpZHRoPSIxMyIgaGVpZ2h0PSIxMiI+PHBhdGggZmlsbD0iI0ZGRiIgZD0iTTYuNSA5LjQzOWwtMy42NzQgMi4yMy45NC00LjI2LTMuMjEtMi44ODMgNC4yNTQtLjQwNEw2LjUuMTEybDEuNjkgNC4wMSA0LjI1NC40MDQtMy4yMSAyLjg4Mi45NCA0LjI2eiIvPjwvc3ZnPg==\" class=\"_1wB99o\"></div><p class=\"_2-N8zT\">Decent product</p></div><div class=\"row\"><div class=\"t-ZTKy\"><div><div class=\"\">Reasons for giving 3 stars, super night mode is not available in 4gb varient and this was not clearly mentioned, no 30w fast charging, drop notch display, these are the only cons i found. rest is good.</div><span class=\"_1H-bmy\"><span>READ MORE</span></span></div></div></div><div class=\"_2nMSwX _3oLIki\"><div class=\"_21YjFX _2A07HP\" style=\"background-image: url(&quot;https://rukminim1.flixcart.com/blobio/124/124/imr-202202/blobio-imr-202202_f457b4992b644e88aa09d0707bbf8e6b.jpg?q=90&quot;), url(&quot;data:image/svg+xml;base64,PHN2ZyB3aWR0aD0iMjIiIGhlaWdodD0iMTgiIHhtbG5zPSJodHRwOi8vd3d3LnczLm9yZy8yMDAwL3N2ZyI+PGcgZmlsbD0iIzlEOUQ5RCIgZmlsbC1ydWxlPSJub256ZXJvIj48cGF0aCBkPSJNMjAgMEgyQzEgMCAwIDEgMCAydjE0YzAgMS4xLjkgMiAyIDJoMThjMSAwIDItMSAyLTJWMmMwLTEtMS0yLTItMnptMCAxNS45MmMtLjAyLjAzLS4wNi4wNi0uMDguMDhIMlYyLjA4TDIuMDggMmgxNy44M2MuMDMuMDIuMDYuMDYuMDguMDh2MTMuODRIMjB6Ii8+PHBhdGggZD0iTTEwIDEyLjUxTDcuNSA5LjUgNCAxNGgxNGwtNC41LTZ6Ii8+PC9nPjwvc3ZnPg==&quot;); width: 62px; height: 62px;\"></div><div class=\"_21YjFX _2A07HP\" style=\"background-image: url(&quot;https://rukminim1.flixcart.com/blobio/124/124/imr-202202/blobio-imr-202202_7a32b1b320734015915c3763f942f7d4.jpg?q=90&quot;), url(&quot;data:image/svg+xml;base64,PHN2ZyB3aWR0aD0iMjIiIGhlaWdodD0iMTgiIHhtbG5zPSJodHRwOi8vd3d3LnczLm9yZy8yMDAwL3N2ZyI+PGcgZmlsbD0iIzlEOUQ5RCIgZmlsbC1ydWxlPSJub256ZXJvIj48cGF0aCBkPSJNMjAgMEgyQzEgMCAwIDEgMCAydjE0YzAgMS4xLjkgMiAyIDJoMThjMSAwIDItMSAyLTJWMmMwLTEtMS0yLTItMnptMCAxNS45MmMtLjAyLjAzLS4wNi4wNi0uMDguMDhIMlYyLjA4TDIuMDggMmgxNy44M2MuMDMuMDIuMDYuMDYuMDguMDh2MTMuODRIMjB6Ii8+PHBhdGggZD0iTTEwIDEyLjUxTDcuNSA5LjUgNCAxNGgxNGwtNC41LTZ6Ii8+PC9nPjwvc3ZnPg==&quot;); width: 62px; height: 62px;\"></div><div class=\"_21YjFX _2A07HP\" style=\"background-image: url(&quot;https://rukminim1.flixcart.com/blobio/124/124/imr-202202/blobio-imr-202202_a7bd8879f76c4439ab482945ad92c580.jpg?q=90&quot;), url(&quot;data:image/svg+xml;base64,PHN2ZyB3aWR0aD0iMjIiIGhlaWdodD0iMTgiIHhtbG5zPSJodHRwOi8vd3d3LnczLm9yZy8yMDAwL3N2ZyI+PGcgZmlsbD0iIzlEOUQ5RCIgZmlsbC1ydWxlPSJub256ZXJvIj48cGF0aCBkPSJNMjAgMEgyQzEgMCAwIDEgMCAydjE0YzAgMS4xLjkgMiAyIDJoMThjMSAwIDItMSAyLTJWMmMwLTEtMS0yLTItMnptMCAxNS45MmMtLjAyLjAzLS4wNi4wNi0uMDguMDhIMlYyLjA4TDIuMDggMmgxNy44M2MuMDMuMDIuMDYuMDYuMDguMDh2MTMuODRIMjB6Ii8+PHBhdGggZD0iTTEwIDEyLjUxTDcuNSA5LjUgNCAxNGgxNGwtNC41LTZ6Ii8+PC9nPjwvc3ZnPg==&quot;); width: 62px; height: 62px;\"></div><div class=\"_21YjFX _2A07HP\" style=\"background-image: url(&quot;https://rukminim1.flixcart.com/blobio/124/124/imr-202202/blobio-imr-202202_3a24918b0da8438fbeb8a6c2fa4ad661.jpg?q=90&quot;), url(&quot;data:image/svg+xml;base64,PHN2ZyB3aWR0aD0iMjIiIGhlaWdodD0iMTgiIHhtbG5zPSJodHRwOi8vd3d3LnczLm9yZy8yMDAwL3N2ZyI+PGcgZmlsbD0iIzlEOUQ5RCIgZmlsbC1ydWxlPSJub256ZXJvIj48cGF0aCBkPSJNMjAgMEgyQzEgMCAwIDEgMCAydjE0YzAgMS4xLjkgMiAyIDJoMThjMSAwIDItMSAyLTJWMmMwLTEtMS0yLTItMnptMCAxNS45MmMtLjAyLjAzLS4wNi4wNi0uMDguMDhIMlYyLjA4TDIuMDggMmgxNy44M2MuMDMuMDIuMDYuMDYuMDguMDh2MTMuODRIMjB6Ii8+PHBhdGggZD0iTTEwIDEyLjUxTDcuNSA5LjUgNCAxNGgxNGwtNC41LTZ6Ii8+PC9nPjwvc3ZnPg==&quot;); width: 62px; height: 62px;\"></div><div class=\"_21YjFX _2A07HP\" style=\"background-image: url(&quot;https://rukminim1.flixcart.com/blobio/124/124/imr-202202/blobio-imr-202202_63b0364d7c8a471dba1db1921a5bbeea.jpg?q=90&quot;), url(&quot;data:image/svg+xml;base64,PHN2ZyB3aWR0aD0iMjIiIGhlaWdodD0iMTgiIHhtbG5zPSJodHRwOi8vd3d3LnczLm9yZy8yMDAwL3N2ZyI+PGcgZmlsbD0iIzlEOUQ5RCIgZmlsbC1ydWxlPSJub256ZXJvIj48cGF0aCBkPSJNMjAgMEgyQzEgMCAwIDEgMCAydjE0YzAgMS4xLjkgMiAyIDJoMThjMSAwIDItMSAyLTJWMmMwLTEtMS0yLTItMnptMCAxNS45MmMtLjAyLjAzLS4wNi4wNi0uMDguMDhIMlYyLjA4TDIuMDggMmgxNy44M2MuMDMuMDIuMDYuMDYuMDguMDh2MTMuODRIMjB6Ii8+PHBhdGggZD0iTTEwIDEyLjUxTDcuNSA5LjUgNCAxNGgxNGwtNC41LTZ6Ii8+PC9nPjwvc3ZnPg==&quot;); width: 62px; height: 62px;\"></div></div><div class=\"row _3n8db9\"><div class=\"row\"><p class=\"_2sc7ZR _2V5EHH\">Sutiksh Sharma</p><svg width=\"14\" height=\"14\" viewBox=\"0 0 12 12\" xmlns=\"http://www.w3.org/2000/svg\" class=\"_2a1p_T\"><g><circle cx=\"6\" cy=\"6\" r=\"6\" fill=\"#878787\"></circle><path stroke=\"#FFF\" stroke-width=\"1.5\" d=\"M3 6l2 2 4-4\" fill=\"#878787\"></path></g></svg><p id=\"review-c30eca7e-b7cd-4277-beb6-fbe295f57ca1\" class=\"_2mcZGG\"><span>Certified Buyer</span><span>, Shivpuri</span></p><div></div><p class=\"_2sc7ZR\">21 days ago</p></div><div class=\"_1e9_Zu\"><div class=\"row\"><div class=\"_27aTsS\"><div class=\"_1LmwT9\"><svg width=\"20\" height=\"15\" xmlns=\"http://www.w3.org/2000/svg\" class=\"skCrcq\"><path fill=\"#fff\" class=\"_1LIt4y\" d=\"M9.58.006c-.41.043-.794.32-1.01.728-.277.557-2.334 4.693-2.74 5.1-.41.407-.944.6-1.544.6v8.572h7.5c.45 0 .835-.28 1.007-.665 0 0 2.207-6.234 2.207-6.834 0-.6-.47-1.072-1.07-1.072h-3.216c-.6 0-1.07-.535-1.07-1.07 0-.537.835-3.387 1.006-3.944.17-.557-.107-1.157-.664-1.35-.15-.043-.257-.086-.407-.064zM0 6.434v8.572h2.143V6.434H0z\" fill-rule=\"evenodd\"></path></svg><span class=\"_3c3Px5\">708</span></div><div class=\"_1LmwT9 pkR4jH\"><svg width=\"20\" height=\"15\" xmlns=\"http://www.w3.org/2000/svg\" class=\"skCrcq pkR4jH\"><path fill=\"#fff\" class=\"_1LIt4y\" d=\"M9.58.006c-.41.043-.794.32-1.01.728-.277.557-2.334 4.693-2.74 5.1-.41.407-.944.6-1.544.6v8.572h7.5c.45 0 .835-.28 1.007-.665 0 0 2.207-6.234 2.207-6.834 0-.6-.47-1.072-1.07-1.072h-3.216c-.6 0-1.07-.535-1.07-1.07 0-.537.835-3.387 1.006-3.944.17-.557-.107-1.157-.664-1.35-.15-.043-.257-.086-.407-.064zM0 6.434v8.572h2.143V6.434H0z\" fill-rule=\"evenodd\"></path></svg><span class=\"_3c3Px5\">164</span></div></div><div class=\"_2bmov8\"><svg width=\"6\" height=\"11\" viewBox=\"0 0 16 27\" xmlns=\"http://www.w3.org/2000/svg\" class=\"_2UvOBb\"><path d=\"M16 23.207L6.11 13.161 16 3.093 12.955 0 0 13.161l12.955 13.161z\" fill=\"#fff\" class=\"_2aPE6f\"></path></svg><div class=\"_3E8aIl _38dCuf\"><div class=\"_3XCI6U\"><a href=\"/reviews/c30eca7e-b7cd-4277-beb6-fbe295f57ca1\"><span>Permalink</span></a></div><div class=\"_3XCI6U _2b2z-j\"><span>Report Abuse</span></div></div></div></div></div></div>',\n",
       " '<div class=\"row\"><div class=\"_3LWZlK _1BLPMq\">4<img src=\"data:image/svg+xml;base64,PHN2ZyB4bWxucz0iaHR0cDovL3d3dy53My5vcmcvMjAwMC9zdmciIHdpZHRoPSIxMyIgaGVpZ2h0PSIxMiI+PHBhdGggZmlsbD0iI0ZGRiIgZD0iTTYuNSA5LjQzOWwtMy42NzQgMi4yMy45NC00LjI2LTMuMjEtMi44ODMgNC4yNTQtLjQwNEw2LjUuMTEybDEuNjkgNC4wMSA0LjI1NC40MDQtMy4yMSAyLjg4Mi45NCA0LjI2eiIvPjwvc3ZnPg==\" class=\"_1wB99o\"></div><p class=\"_2-N8zT\">Very Good</p></div><div class=\"row\"><div class=\"t-ZTKy\"><div><div class=\"\">As usual we all known that Vivo is famous for their camera. If you look for good camera quality and space go for it. It looks is awsm 💁🏻\\u200d♀️ <br>Disadvantages :- screen touch 2/5 I rated bcz its not working properly and after installing apps its work more slower thn before 🥴</div><span class=\"_1H-bmy\"><span>READ MORE</span></span></div></div></div><div class=\"row _3n8db9\"><div class=\"row\"><p class=\"_2sc7ZR _2V5EHH\">Ragini shrivastav</p><svg width=\"14\" height=\"14\" viewBox=\"0 0 12 12\" xmlns=\"http://www.w3.org/2000/svg\" class=\"_2a1p_T\"><g><circle cx=\"6\" cy=\"6\" r=\"6\" fill=\"#878787\"></circle><path stroke=\"#FFF\" stroke-width=\"1.5\" d=\"M3 6l2 2 4-4\" fill=\"#878787\"></path></g></svg><p id=\"review-66559dd9-9ba9-4fb6-9990-22867d2dd6eb\" class=\"_2mcZGG\"><span>Certified Buyer</span><span>, Patna</span></p><div></div><p class=\"_2sc7ZR\">22 days ago</p></div><div class=\"_1e9_Zu\"><div class=\"row\"><div class=\"_27aTsS\"><div class=\"_1LmwT9\"><svg width=\"20\" height=\"15\" xmlns=\"http://www.w3.org/2000/svg\" class=\"skCrcq\"><path fill=\"#fff\" class=\"_1LIt4y\" d=\"M9.58.006c-.41.043-.794.32-1.01.728-.277.557-2.334 4.693-2.74 5.1-.41.407-.944.6-1.544.6v8.572h7.5c.45 0 .835-.28 1.007-.665 0 0 2.207-6.234 2.207-6.834 0-.6-.47-1.072-1.07-1.072h-3.216c-.6 0-1.07-.535-1.07-1.07 0-.537.835-3.387 1.006-3.944.17-.557-.107-1.157-.664-1.35-.15-.043-.257-.086-.407-.064zM0 6.434v8.572h2.143V6.434H0z\" fill-rule=\"evenodd\"></path></svg><span class=\"_3c3Px5\">183</span></div><div class=\"_1LmwT9 pkR4jH\"><svg width=\"20\" height=\"15\" xmlns=\"http://www.w3.org/2000/svg\" class=\"skCrcq pkR4jH\"><path fill=\"#fff\" class=\"_1LIt4y\" d=\"M9.58.006c-.41.043-.794.32-1.01.728-.277.557-2.334 4.693-2.74 5.1-.41.407-.944.6-1.544.6v8.572h7.5c.45 0 .835-.28 1.007-.665 0 0 2.207-6.234 2.207-6.834 0-.6-.47-1.072-1.07-1.072h-3.216c-.6 0-1.07-.535-1.07-1.07 0-.537.835-3.387 1.006-3.944.17-.557-.107-1.157-.664-1.35-.15-.043-.257-.086-.407-.064zM0 6.434v8.572h2.143V6.434H0z\" fill-rule=\"evenodd\"></path></svg><span class=\"_3c3Px5\">46</span></div></div><div class=\"_2bmov8\"><svg width=\"6\" height=\"11\" viewBox=\"0 0 16 27\" xmlns=\"http://www.w3.org/2000/svg\" class=\"_2UvOBb\"><path d=\"M16 23.207L6.11 13.161 16 3.093 12.955 0 0 13.161l12.955 13.161z\" fill=\"#fff\" class=\"_2aPE6f\"></path></svg><div class=\"_3E8aIl _38dCuf\"><div class=\"_3XCI6U\"><a href=\"/reviews/66559dd9-9ba9-4fb6-9990-22867d2dd6eb\"><span>Permalink</span></a></div><div class=\"_3XCI6U _2b2z-j\"><span>Report Abuse</span></div></div></div></div></div></div>',\n",
       " '<div class=\"row\"><div class=\"_3LWZlK _1BLPMq\">5<img src=\"data:image/svg+xml;base64,PHN2ZyB4bWxucz0iaHR0cDovL3d3dy53My5vcmcvMjAwMC9zdmciIHdpZHRoPSIxMyIgaGVpZ2h0PSIxMiI+PHBhdGggZmlsbD0iI0ZGRiIgZD0iTTYuNSA5LjQzOWwtMy42NzQgMi4yMy45NC00LjI2LTMuMjEtMi44ODMgNC4yNTQtLjQwNEw2LjUuMTEybDEuNjkgNC4wMSA0LjI1NC40MDQtMy4yMSAyLjg4Mi45NCA0LjI2eiIvPjwvc3ZnPg==\" class=\"_1wB99o\"></div><p class=\"_2-N8zT\">Classy product</p></div><div class=\"row\"><div class=\"t-ZTKy\"><div><div class=\"\">I have used this device for 12 days this device no any issues &amp; perfectly work but BGMI gaming There is a problem in doing this, there is an automatic refresh, it may be fixed after the software update ।I am very happy to buy this mobile I really liked the color of it and the camera frame was also very nice And the display is IPS not so good but when used outside, its light remains bright. And talking about the network, after the arrival of 5g, you will know how much speed it is giving, it is running well in 4g.</div><span class=\"_1H-bmy\"><span>READ MORE</span></span></div></div></div><div class=\"_2nMSwX _3oLIki\"><div class=\"_21YjFX _2A07HP\" style=\"background-image: url(&quot;https://rukminim1.flixcart.com/blobio/124/124/imr-202202/blobio-imr-202202_9da5030bd8fc4597980df3a57eb35cc8.jpg?q=90&quot;), url(&quot;data:image/svg+xml;base64,PHN2ZyB3aWR0aD0iMjIiIGhlaWdodD0iMTgiIHhtbG5zPSJodHRwOi8vd3d3LnczLm9yZy8yMDAwL3N2ZyI+PGcgZmlsbD0iIzlEOUQ5RCIgZmlsbC1ydWxlPSJub256ZXJvIj48cGF0aCBkPSJNMjAgMEgyQzEgMCAwIDEgMCAydjE0YzAgMS4xLjkgMiAyIDJoMThjMSAwIDItMSAyLTJWMmMwLTEtMS0yLTItMnptMCAxNS45MmMtLjAyLjAzLS4wNi4wNi0uMDguMDhIMlYyLjA4TDIuMDggMmgxNy44M2MuMDMuMDIuMDYuMDYuMDguMDh2MTMuODRIMjB6Ii8+PHBhdGggZD0iTTEwIDEyLjUxTDcuNSA5LjUgNCAxNGgxNGwtNC41LTZ6Ii8+PC9nPjwvc3ZnPg==&quot;); width: 62px; height: 62px;\"></div><div class=\"_21YjFX _2A07HP\" style=\"background-image: url(&quot;https://rukminim1.flixcart.com/blobio/124/124/imr-202202/blobio-imr-202202_a3fa04b49c4c4890b0ecaaa4c841c819.jpg?q=90&quot;), url(&quot;data:image/svg+xml;base64,PHN2ZyB3aWR0aD0iMjIiIGhlaWdodD0iMTgiIHhtbG5zPSJodHRwOi8vd3d3LnczLm9yZy8yMDAwL3N2ZyI+PGcgZmlsbD0iIzlEOUQ5RCIgZmlsbC1ydWxlPSJub256ZXJvIj48cGF0aCBkPSJNMjAgMEgyQzEgMCAwIDEgMCAydjE0YzAgMS4xLjkgMiAyIDJoMThjMSAwIDItMSAyLTJWMmMwLTEtMS0yLTItMnptMCAxNS45MmMtLjAyLjAzLS4wNi4wNi0uMDguMDhIMlYyLjA4TDIuMDggMmgxNy44M2MuMDMuMDIuMDYuMDYuMDguMDh2MTMuODRIMjB6Ii8+PHBhdGggZD0iTTEwIDEyLjUxTDcuNSA5LjUgNCAxNGgxNGwtNC41LTZ6Ii8+PC9nPjwvc3ZnPg==&quot;); width: 62px; height: 62px;\"></div><div class=\"_21YjFX _2A07HP\" style=\"background-image: url(&quot;https://rukminim1.flixcart.com/blobio/124/124/imr-202202/blobio-imr-202202_36409a2840004ac4900f27a1fea19526.jpg?q=90&quot;), url(&quot;data:image/svg+xml;base64,PHN2ZyB3aWR0aD0iMjIiIGhlaWdodD0iMTgiIHhtbG5zPSJodHRwOi8vd3d3LnczLm9yZy8yMDAwL3N2ZyI+PGcgZmlsbD0iIzlEOUQ5RCIgZmlsbC1ydWxlPSJub256ZXJvIj48cGF0aCBkPSJNMjAgMEgyQzEgMCAwIDEgMCAydjE0YzAgMS4xLjkgMiAyIDJoMThjMSAwIDItMSAyLTJWMmMwLTEtMS0yLTItMnptMCAxNS45MmMtLjAyLjAzLS4wNi4wNi0uMDguMDhIMlYyLjA4TDIuMDggMmgxNy44M2MuMDMuMDIuMDYuMDYuMDguMDh2MTMuODRIMjB6Ii8+PHBhdGggZD0iTTEwIDEyLjUxTDcuNSA5LjUgNCAxNGgxNGwtNC41LTZ6Ii8+PC9nPjwvc3ZnPg==&quot;); width: 62px; height: 62px;\"></div><div class=\"_21YjFX _2A07HP\" style=\"background-image: url(&quot;https://rukminim1.flixcart.com/blobio/124/124/imr-202202/blobio-imr-202202_5e79912c120c452b9b068ef9670d7a3e.jpg?q=90&quot;), url(&quot;data:image/svg+xml;base64,PHN2ZyB3aWR0aD0iMjIiIGhlaWdodD0iMTgiIHhtbG5zPSJodHRwOi8vd3d3LnczLm9yZy8yMDAwL3N2ZyI+PGcgZmlsbD0iIzlEOUQ5RCIgZmlsbC1ydWxlPSJub256ZXJvIj48cGF0aCBkPSJNMjAgMEgyQzEgMCAwIDEgMCAydjE0YzAgMS4xLjkgMiAyIDJoMThjMSAwIDItMSAyLTJWMmMwLTEtMS0yLTItMnptMCAxNS45MmMtLjAyLjAzLS4wNi4wNi0uMDguMDhIMlYyLjA4TDIuMDggMmgxNy44M2MuMDMuMDIuMDYuMDYuMDguMDh2MTMuODRIMjB6Ii8+PHBhdGggZD0iTTEwIDEyLjUxTDcuNSA5LjUgNCAxNGgxNGwtNC41LTZ6Ii8+PC9nPjwvc3ZnPg==&quot;); width: 62px; height: 62px;\"></div><div class=\"_21YjFX _2A07HP\" style=\"background-image: url(&quot;https://rukminim1.flixcart.com/blobio/124/124/imr-202202/blobio-imr-202202_493104c4d2384170a142115697b73955.jpg?q=90&quot;), url(&quot;data:image/svg+xml;base64,PHN2ZyB3aWR0aD0iMjIiIGhlaWdodD0iMTgiIHhtbG5zPSJodHRwOi8vd3d3LnczLm9yZy8yMDAwL3N2ZyI+PGcgZmlsbD0iIzlEOUQ5RCIgZmlsbC1ydWxlPSJub256ZXJvIj48cGF0aCBkPSJNMjAgMEgyQzEgMCAwIDEgMCAydjE0YzAgMS4xLjkgMiAyIDJoMThjMSAwIDItMSAyLTJWMmMwLTEtMS0yLTItMnptMCAxNS45MmMtLjAyLjAzLS4wNi4wNi0uMDguMDhIMlYyLjA4TDIuMDggMmgxNy44M2MuMDMuMDIuMDYuMDYuMDguMDh2MTMuODRIMjB6Ii8+PHBhdGggZD0iTTEwIDEyLjUxTDcuNSA5LjUgNCAxNGgxNGwtNC41LTZ6Ii8+PC9nPjwvc3ZnPg==&quot;); width: 62px; height: 62px;\"></div></div><div class=\"row _3n8db9\"><div class=\"row\"><p class=\"_2sc7ZR _2V5EHH\">Dhanurdhar Nath</p><svg width=\"14\" height=\"14\" viewBox=\"0 0 12 12\" xmlns=\"http://www.w3.org/2000/svg\" class=\"_2a1p_T\"><g><circle cx=\"6\" cy=\"6\" r=\"6\" fill=\"#878787\"></circle><path stroke=\"#FFF\" stroke-width=\"1.5\" d=\"M3 6l2 2 4-4\" fill=\"#878787\"></path></g></svg><p id=\"review-aa982473-3290-4cff-a6fb-ba15330a6c39\" class=\"_2mcZGG\"><span>Certified Buyer</span><span>, Bengaluru</span></p><div></div><p class=\"_2sc7ZR\">13 days ago</p></div><div class=\"_1e9_Zu\"><div class=\"row\"><div class=\"_27aTsS\"><div class=\"_1LmwT9\"><svg width=\"20\" height=\"15\" xmlns=\"http://www.w3.org/2000/svg\" class=\"skCrcq\"><path fill=\"#fff\" class=\"_1LIt4y\" d=\"M9.58.006c-.41.043-.794.32-1.01.728-.277.557-2.334 4.693-2.74 5.1-.41.407-.944.6-1.544.6v8.572h7.5c.45 0 .835-.28 1.007-.665 0 0 2.207-6.234 2.207-6.834 0-.6-.47-1.072-1.07-1.072h-3.216c-.6 0-1.07-.535-1.07-1.07 0-.537.835-3.387 1.006-3.944.17-.557-.107-1.157-.664-1.35-.15-.043-.257-.086-.407-.064zM0 6.434v8.572h2.143V6.434H0z\" fill-rule=\"evenodd\"></path></svg><span class=\"_3c3Px5\">62</span></div><div class=\"_1LmwT9 pkR4jH\"><svg width=\"20\" height=\"15\" xmlns=\"http://www.w3.org/2000/svg\" class=\"skCrcq pkR4jH\"><path fill=\"#fff\" class=\"_1LIt4y\" d=\"M9.58.006c-.41.043-.794.32-1.01.728-.277.557-2.334 4.693-2.74 5.1-.41.407-.944.6-1.544.6v8.572h7.5c.45 0 .835-.28 1.007-.665 0 0 2.207-6.234 2.207-6.834 0-.6-.47-1.072-1.07-1.072h-3.216c-.6 0-1.07-.535-1.07-1.07 0-.537.835-3.387 1.006-3.944.17-.557-.107-1.157-.664-1.35-.15-.043-.257-.086-.407-.064zM0 6.434v8.572h2.143V6.434H0z\" fill-rule=\"evenodd\"></path></svg><span class=\"_3c3Px5\">11</span></div></div><div class=\"_2bmov8\"><svg width=\"6\" height=\"11\" viewBox=\"0 0 16 27\" xmlns=\"http://www.w3.org/2000/svg\" class=\"_2UvOBb\"><path d=\"M16 23.207L6.11 13.161 16 3.093 12.955 0 0 13.161l12.955 13.161z\" fill=\"#fff\" class=\"_2aPE6f\"></path></svg><div class=\"_3E8aIl _38dCuf\"><div class=\"_3XCI6U\"><a href=\"/reviews/aa982473-3290-4cff-a6fb-ba15330a6c39\"><span>Permalink</span></a></div><div class=\"_3XCI6U _2b2z-j\"><span>Report Abuse</span></div></div></div></div></div></div>',\n",
       " '<div class=\"row\"><div class=\"_3LWZlK _1rdVr6 _1BLPMq\">1<img src=\"data:image/svg+xml;base64,PHN2ZyB4bWxucz0iaHR0cDovL3d3dy53My5vcmcvMjAwMC9zdmciIHdpZHRoPSIxMyIgaGVpZ2h0PSIxMiI+PHBhdGggZmlsbD0iI0ZGRiIgZD0iTTYuNSA5LjQzOWwtMy42NzQgMi4yMy45NC00LjI2LTMuMjEtMi44ODMgNC4yNTQtLjQwNEw2LjUuMTEybDEuNjkgNC4wMSA0LjI1NC40MDQtMy4yMSAyLjg4Mi45NCA0LjI2eiIvPjwvc3ZnPg==\" class=\"_1wB99o\"></div><p class=\"_2-N8zT\">Absolute rubbish!</p></div><div class=\"row\"><div class=\"t-ZTKy\"><div><div class=\"\">I bought 4gb varient mobile, touch screen wont work normally we have to press like 4-5 time to go back or to go home. Worst mobile, os works like very slow. Overall i give rating 1 that is more than enough. Vivo needs to work on this mobile asap.</div><span class=\"_1H-bmy\"><span>READ MORE</span></span></div></div></div><div class=\"row _3n8db9\"><div class=\"row\"><p class=\"_2sc7ZR _2V5EHH\">chandra mouli</p><svg width=\"14\" height=\"14\" viewBox=\"0 0 12 12\" xmlns=\"http://www.w3.org/2000/svg\" class=\"_2a1p_T\"><g><circle cx=\"6\" cy=\"6\" r=\"6\" fill=\"#878787\"></circle><path stroke=\"#FFF\" stroke-width=\"1.5\" d=\"M3 6l2 2 4-4\" fill=\"#878787\"></path></g></svg><p id=\"review-b161a0da-4b1f-4f34-86f7-bfe1814508fe\" class=\"_2mcZGG\"><span>Certified Buyer</span><span>, Dharmavaram</span></p><div></div><p class=\"_2sc7ZR\">8 days ago</p></div><div class=\"_1e9_Zu\"><div class=\"row\"><div class=\"_27aTsS\"><div class=\"_1LmwT9\"><svg width=\"20\" height=\"15\" xmlns=\"http://www.w3.org/2000/svg\" class=\"skCrcq\"><path fill=\"#fff\" class=\"_1LIt4y\" d=\"M9.58.006c-.41.043-.794.32-1.01.728-.277.557-2.334 4.693-2.74 5.1-.41.407-.944.6-1.544.6v8.572h7.5c.45 0 .835-.28 1.007-.665 0 0 2.207-6.234 2.207-6.834 0-.6-.47-1.072-1.07-1.072h-3.216c-.6 0-1.07-.535-1.07-1.07 0-.537.835-3.387 1.006-3.944.17-.557-.107-1.157-.664-1.35-.15-.043-.257-.086-.407-.064zM0 6.434v8.572h2.143V6.434H0z\" fill-rule=\"evenodd\"></path></svg><span class=\"_3c3Px5\">22</span></div><div class=\"_1LmwT9 pkR4jH\"><svg width=\"20\" height=\"15\" xmlns=\"http://www.w3.org/2000/svg\" class=\"skCrcq pkR4jH\"><path fill=\"#fff\" class=\"_1LIt4y\" d=\"M9.58.006c-.41.043-.794.32-1.01.728-.277.557-2.334 4.693-2.74 5.1-.41.407-.944.6-1.544.6v8.572h7.5c.45 0 .835-.28 1.007-.665 0 0 2.207-6.234 2.207-6.834 0-.6-.47-1.072-1.07-1.072h-3.216c-.6 0-1.07-.535-1.07-1.07 0-.537.835-3.387 1.006-3.944.17-.557-.107-1.157-.664-1.35-.15-.043-.257-.086-.407-.064zM0 6.434v8.572h2.143V6.434H0z\" fill-rule=\"evenodd\"></path></svg><span class=\"_3c3Px5\">7</span></div></div><div class=\"_2bmov8\"><svg width=\"6\" height=\"11\" viewBox=\"0 0 16 27\" xmlns=\"http://www.w3.org/2000/svg\" class=\"_2UvOBb\"><path d=\"M16 23.207L6.11 13.161 16 3.093 12.955 0 0 13.161l12.955 13.161z\" fill=\"#fff\" class=\"_2aPE6f\"></path></svg><div class=\"_3E8aIl _38dCuf\"><div class=\"_3XCI6U\"><a href=\"/reviews/b161a0da-4b1f-4f34-86f7-bfe1814508fe\"><span>Permalink</span></a></div><div class=\"_3XCI6U _2b2z-j\"><span>Report Abuse</span></div></div></div></div></div></div>',\n",
       " '<div class=\"row\"><div class=\"_3LWZlK _1BLPMq\">3<img src=\"data:image/svg+xml;base64,PHN2ZyB4bWxucz0iaHR0cDovL3d3dy53My5vcmcvMjAwMC9zdmciIHdpZHRoPSIxMyIgaGVpZ2h0PSIxMiI+PHBhdGggZmlsbD0iI0ZGRiIgZD0iTTYuNSA5LjQzOWwtMy42NzQgMi4yMy45NC00LjI2LTMuMjEtMi44ODMgNC4yNTQtLjQwNEw2LjUuMTEybDEuNjkgNC4wMSA0LjI1NC40MDQtMy4yMSAyLjg4Mi45NCA0LjI2eiIvPjwvc3ZnPg==\" class=\"_1wB99o\"></div><p class=\"_2-N8zT\">Good</p></div><div class=\"row\"><div class=\"t-ZTKy\"><div><div class=\"\">Good phn but camera not good as i expected<br>Battery backup v.good charger not worth 18W i expect this phn has 44W</div><span class=\"_1H-bmy\"><span>READ MORE</span></span></div></div></div><div class=\"_2nMSwX _3oLIki\"><div class=\"_21YjFX _2A07HP\" style=\"background-image: url(&quot;https://rukminim1.flixcart.com/blobio/124/124/imr-202202/blobio-imr-202202_d4961784668448e18e9d5bbadc69fd27.jpg?q=90&quot;), url(&quot;data:image/svg+xml;base64,PHN2ZyB3aWR0aD0iMjIiIGhlaWdodD0iMTgiIHhtbG5zPSJodHRwOi8vd3d3LnczLm9yZy8yMDAwL3N2ZyI+PGcgZmlsbD0iIzlEOUQ5RCIgZmlsbC1ydWxlPSJub256ZXJvIj48cGF0aCBkPSJNMjAgMEgyQzEgMCAwIDEgMCAydjE0YzAgMS4xLjkgMiAyIDJoMThjMSAwIDItMSAyLTJWMmMwLTEtMS0yLTItMnptMCAxNS45MmMtLjAyLjAzLS4wNi4wNi0uMDguMDhIMlYyLjA4TDIuMDggMmgxNy44M2MuMDMuMDIuMDYuMDYuMDguMDh2MTMuODRIMjB6Ii8+PHBhdGggZD0iTTEwIDEyLjUxTDcuNSA5LjUgNCAxNGgxNGwtNC41LTZ6Ii8+PC9nPjwvc3ZnPg==&quot;); width: 62px; height: 62px;\"></div><div class=\"_21YjFX _2A07HP\" style=\"background-image: url(&quot;https://rukminim1.flixcart.com/blobio/124/124/imr-202202/blobio-imr-202202_f830da9f26ca41b0a44e3ee2c80f9fc0.jpg?q=90&quot;), url(&quot;data:image/svg+xml;base64,PHN2ZyB3aWR0aD0iMjIiIGhlaWdodD0iMTgiIHhtbG5zPSJodHRwOi8vd3d3LnczLm9yZy8yMDAwL3N2ZyI+PGcgZmlsbD0iIzlEOUQ5RCIgZmlsbC1ydWxlPSJub256ZXJvIj48cGF0aCBkPSJNMjAgMEgyQzEgMCAwIDEgMCAydjE0YzAgMS4xLjkgMiAyIDJoMThjMSAwIDItMSAyLTJWMmMwLTEtMS0yLTItMnptMCAxNS45MmMtLjAyLjAzLS4wNi4wNi0uMDguMDhIMlYyLjA4TDIuMDggMmgxNy44M2MuMDMuMDIuMDYuMDYuMDguMDh2MTMuODRIMjB6Ii8+PHBhdGggZD0iTTEwIDEyLjUxTDcuNSA5LjUgNCAxNGgxNGwtNC41LTZ6Ii8+PC9nPjwvc3ZnPg==&quot;); width: 62px; height: 62px;\"></div></div><div class=\"row _3n8db9\"><div class=\"row\"><p class=\"_2sc7ZR _2V5EHH\">Shabab Alam</p><svg width=\"14\" height=\"14\" viewBox=\"0 0 12 12\" xmlns=\"http://www.w3.org/2000/svg\" class=\"_2a1p_T\"><g><circle cx=\"6\" cy=\"6\" r=\"6\" fill=\"#878787\"></circle><path stroke=\"#FFF\" stroke-width=\"1.5\" d=\"M3 6l2 2 4-4\" fill=\"#878787\"></path></g></svg><p id=\"review-b2b0743e-50d1-42f6-8c1e-6a2a01b9be0a\" class=\"_2mcZGG\"><span>Certified Buyer</span><span>, Bhagalpur</span></p><div></div><p class=\"_2sc7ZR\">16 days ago</p></div><div class=\"_1e9_Zu\"><div class=\"row\"><div class=\"_27aTsS\"><div class=\"_1LmwT9\"><svg width=\"20\" height=\"15\" xmlns=\"http://www.w3.org/2000/svg\" class=\"skCrcq\"><path fill=\"#fff\" class=\"_1LIt4y\" d=\"M9.58.006c-.41.043-.794.32-1.01.728-.277.557-2.334 4.693-2.74 5.1-.41.407-.944.6-1.544.6v8.572h7.5c.45 0 .835-.28 1.007-.665 0 0 2.207-6.234 2.207-6.834 0-.6-.47-1.072-1.07-1.072h-3.216c-.6 0-1.07-.535-1.07-1.07 0-.537.835-3.387 1.006-3.944.17-.557-.107-1.157-.664-1.35-.15-.043-.257-.086-.407-.064zM0 6.434v8.572h2.143V6.434H0z\" fill-rule=\"evenodd\"></path></svg><span class=\"_3c3Px5\">25</span></div><div class=\"_1LmwT9 pkR4jH\"><svg width=\"20\" height=\"15\" xmlns=\"http://www.w3.org/2000/svg\" class=\"skCrcq pkR4jH\"><path fill=\"#fff\" class=\"_1LIt4y\" d=\"M9.58.006c-.41.043-.794.32-1.01.728-.277.557-2.334 4.693-2.74 5.1-.41.407-.944.6-1.544.6v8.572h7.5c.45 0 .835-.28 1.007-.665 0 0 2.207-6.234 2.207-6.834 0-.6-.47-1.072-1.07-1.072h-3.216c-.6 0-1.07-.535-1.07-1.07 0-.537.835-3.387 1.006-3.944.17-.557-.107-1.157-.664-1.35-.15-.043-.257-.086-.407-.064zM0 6.434v8.572h2.143V6.434H0z\" fill-rule=\"evenodd\"></path></svg><span class=\"_3c3Px5\">3</span></div></div><div class=\"_2bmov8\"><svg width=\"6\" height=\"11\" viewBox=\"0 0 16 27\" xmlns=\"http://www.w3.org/2000/svg\" class=\"_2UvOBb\"><path d=\"M16 23.207L6.11 13.161 16 3.093 12.955 0 0 13.161l12.955 13.161z\" fill=\"#fff\" class=\"_2aPE6f\"></path></svg><div class=\"_3E8aIl _38dCuf\"><div class=\"_3XCI6U\"><a href=\"/reviews/b2b0743e-50d1-42f6-8c1e-6a2a01b9be0a\"><span>Permalink</span></a></div><div class=\"_3XCI6U _2b2z-j\"><span>Report Abuse</span></div></div></div></div></div></div>',\n",
       " '<div class=\"row\"><div class=\"_3LWZlK _32lA32 _1BLPMq\">2<img src=\"data:image/svg+xml;base64,PHN2ZyB4bWxucz0iaHR0cDovL3d3dy53My5vcmcvMjAwMC9zdmciIHdpZHRoPSIxMyIgaGVpZ2h0PSIxMiI+PHBhdGggZmlsbD0iI0ZGRiIgZD0iTTYuNSA5LjQzOWwtMy42NzQgMi4yMy45NC00LjI2LTMuMjEtMi44ODMgNC4yNTQtLjQwNEw2LjUuMTEybDEuNjkgNC4wMSA0LjI1NC40MDQtMy4yMSAyLjg4Mi45NCA0LjI2eiIvPjwvc3ZnPg==\" class=\"_1wB99o\"></div><p class=\"_2-N8zT\">Slightly disappointed</p></div><div class=\"row\"><div class=\"t-ZTKy\"><div><div class=\"\">Nice camera and battery good but hanging issue, performance not good as excepted.<br>I i am very disappointed with the smart phone so i suggest dont buy this....</div><span class=\"_1H-bmy\"><span>READ MORE</span></span></div></div></div><div class=\"row _3n8db9\"><div class=\"row\"><p class=\"_2sc7ZR _2V5EHH\">vishal sharma</p><svg width=\"14\" height=\"14\" viewBox=\"0 0 12 12\" xmlns=\"http://www.w3.org/2000/svg\" class=\"_2a1p_T\"><g><circle cx=\"6\" cy=\"6\" r=\"6\" fill=\"#878787\"></circle><path stroke=\"#FFF\" stroke-width=\"1.5\" d=\"M3 6l2 2 4-4\" fill=\"#878787\"></path></g></svg><p id=\"review-fd194938-160d-479d-a27c-a5620489920d\" class=\"_2mcZGG\"><span>Certified Buyer</span><span>, Ujjain</span></p><div></div><p class=\"_2sc7ZR\">11 days ago</p></div><div class=\"_1e9_Zu\"><div class=\"row\"><div class=\"_27aTsS\"><div class=\"_1LmwT9\"><svg width=\"20\" height=\"15\" xmlns=\"http://www.w3.org/2000/svg\" class=\"skCrcq\"><path fill=\"#fff\" class=\"_1LIt4y\" d=\"M9.58.006c-.41.043-.794.32-1.01.728-.277.557-2.334 4.693-2.74 5.1-.41.407-.944.6-1.544.6v8.572h7.5c.45 0 .835-.28 1.007-.665 0 0 2.207-6.234 2.207-6.834 0-.6-.47-1.072-1.07-1.072h-3.216c-.6 0-1.07-.535-1.07-1.07 0-.537.835-3.387 1.006-3.944.17-.557-.107-1.157-.664-1.35-.15-.043-.257-.086-.407-.064zM0 6.434v8.572h2.143V6.434H0z\" fill-rule=\"evenodd\"></path></svg><span class=\"_3c3Px5\">9</span></div><div class=\"_1LmwT9 pkR4jH\"><svg width=\"20\" height=\"15\" xmlns=\"http://www.w3.org/2000/svg\" class=\"skCrcq pkR4jH\"><path fill=\"#fff\" class=\"_1LIt4y\" d=\"M9.58.006c-.41.043-.794.32-1.01.728-.277.557-2.334 4.693-2.74 5.1-.41.407-.944.6-1.544.6v8.572h7.5c.45 0 .835-.28 1.007-.665 0 0 2.207-6.234 2.207-6.834 0-.6-.47-1.072-1.07-1.072h-3.216c-.6 0-1.07-.535-1.07-1.07 0-.537.835-3.387 1.006-3.944.17-.557-.107-1.157-.664-1.35-.15-.043-.257-.086-.407-.064zM0 6.434v8.572h2.143V6.434H0z\" fill-rule=\"evenodd\"></path></svg><span class=\"_3c3Px5\">3</span></div></div><div class=\"_2bmov8\"><svg width=\"6\" height=\"11\" viewBox=\"0 0 16 27\" xmlns=\"http://www.w3.org/2000/svg\" class=\"_2UvOBb\"><path d=\"M16 23.207L6.11 13.161 16 3.093 12.955 0 0 13.161l12.955 13.161z\" fill=\"#fff\" class=\"_2aPE6f\"></path></svg><div class=\"_3E8aIl _38dCuf\"><div class=\"_3XCI6U\"><a href=\"/reviews/fd194938-160d-479d-a27c-a5620489920d\"><span>Permalink</span></a></div><div class=\"_3XCI6U _2b2z-j\"><span>Report Abuse</span></div></div></div></div></div></div>',\n",
       " '<div class=\"row\"><div class=\"_3LWZlK _1BLPMq\">4<img src=\"data:image/svg+xml;base64,PHN2ZyB4bWxucz0iaHR0cDovL3d3dy53My5vcmcvMjAwMC9zdmciIHdpZHRoPSIxMyIgaGVpZ2h0PSIxMiI+PHBhdGggZmlsbD0iI0ZGRiIgZD0iTTYuNSA5LjQzOWwtMy42NzQgMi4yMy45NC00LjI2LTMuMjEtMi44ODMgNC4yNTQtLjQwNEw2LjUuMTEybDEuNjkgNC4wMSA0LjI1NC40MDQtMy4yMSAyLjg4Mi45NCA0LjI2eiIvPjwvc3ZnPg==\" class=\"_1wB99o\"></div><p class=\"_2-N8zT\">Nice product</p></div><div class=\"row\"><div class=\"t-ZTKy\"><div><div class=\"\">🙏Thanks to Flipkart, I got VIVO T1 5g segment Android mobile cameras performance is good👍 battery backup has excellent🔋overall performance was nice ; recommend to flipkart customers dont worry get this 5g mbile.......</div><span class=\"_1H-bmy\"><span>READ MORE</span></span></div></div></div><div class=\"_2nMSwX _3oLIki\"><div class=\"_21YjFX _2A07HP\" style=\"background-image: url(&quot;https://rukminim1.flixcart.com/blobio/124/124/imr-202202/blobio-imr-202202_f3cc2235e2634a7f9d1d3837db4137bc.jpg?q=90&quot;), url(&quot;data:image/svg+xml;base64,PHN2ZyB3aWR0aD0iMjIiIGhlaWdodD0iMTgiIHhtbG5zPSJodHRwOi8vd3d3LnczLm9yZy8yMDAwL3N2ZyI+PGcgZmlsbD0iIzlEOUQ5RCIgZmlsbC1ydWxlPSJub256ZXJvIj48cGF0aCBkPSJNMjAgMEgyQzEgMCAwIDEgMCAydjE0YzAgMS4xLjkgMiAyIDJoMThjMSAwIDItMSAyLTJWMmMwLTEtMS0yLTItMnptMCAxNS45MmMtLjAyLjAzLS4wNi4wNi0uMDguMDhIMlYyLjA4TDIuMDggMmgxNy44M2MuMDMuMDIuMDYuMDYuMDguMDh2MTMuODRIMjB6Ii8+PHBhdGggZD0iTTEwIDEyLjUxTDcuNSA5LjUgNCAxNGgxNGwtNC41LTZ6Ii8+PC9nPjwvc3ZnPg==&quot;); width: 62px; height: 62px;\"></div><div class=\"_21YjFX _2A07HP\" style=\"background-image: url(&quot;https://rukminim1.flixcart.com/blobio/124/124/imr-202202/blobio-imr-202202_35c952ec00fb4ea6864c8a319e7f85a9.jpg?q=90&quot;), url(&quot;data:image/svg+xml;base64,PHN2ZyB3aWR0aD0iMjIiIGhlaWdodD0iMTgiIHhtbG5zPSJodHRwOi8vd3d3LnczLm9yZy8yMDAwL3N2ZyI+PGcgZmlsbD0iIzlEOUQ5RCIgZmlsbC1ydWxlPSJub256ZXJvIj48cGF0aCBkPSJNMjAgMEgyQzEgMCAwIDEgMCAydjE0YzAgMS4xLjkgMiAyIDJoMThjMSAwIDItMSAyLTJWMmMwLTEtMS0yLTItMnptMCAxNS45MmMtLjAyLjAzLS4wNi4wNi0uMDguMDhIMlYyLjA4TDIuMDggMmgxNy44M2MuMDMuMDIuMDYuMDYuMDguMDh2MTMuODRIMjB6Ii8+PHBhdGggZD0iTTEwIDEyLjUxTDcuNSA5LjUgNCAxNGgxNGwtNC41LTZ6Ii8+PC9nPjwvc3ZnPg==&quot;); width: 62px; height: 62px;\"></div><div class=\"_21YjFX _2A07HP\" style=\"background-image: url(&quot;https://rukminim1.flixcart.com/blobio/124/124/imr-202202/blobio-imr-202202_c7d81de35f694241867e5ddc98fd0e7e.jpg?q=90&quot;), url(&quot;data:image/svg+xml;base64,PHN2ZyB3aWR0aD0iMjIiIGhlaWdodD0iMTgiIHhtbG5zPSJodHRwOi8vd3d3LnczLm9yZy8yMDAwL3N2ZyI+PGcgZmlsbD0iIzlEOUQ5RCIgZmlsbC1ydWxlPSJub256ZXJvIj48cGF0aCBkPSJNMjAgMEgyQzEgMCAwIDEgMCAydjE0YzAgMS4xLjkgMiAyIDJoMThjMSAwIDItMSAyLTJWMmMwLTEtMS0yLTItMnptMCAxNS45MmMtLjAyLjAzLS4wNi4wNi0uMDguMDhIMlYyLjA4TDIuMDggMmgxNy44M2MuMDMuMDIuMDYuMDYuMDguMDh2MTMuODRIMjB6Ii8+PHBhdGggZD0iTTEwIDEyLjUxTDcuNSA5LjUgNCAxNGgxNGwtNC41LTZ6Ii8+PC9nPjwvc3ZnPg==&quot;); width: 62px; height: 62px;\"></div></div><div class=\"row _3n8db9\"><div class=\"row\"><p class=\"_2sc7ZR _2V5EHH\">Susheel Jain</p><svg width=\"14\" height=\"14\" viewBox=\"0 0 12 12\" xmlns=\"http://www.w3.org/2000/svg\" class=\"_2a1p_T\"><g><circle cx=\"6\" cy=\"6\" r=\"6\" fill=\"#878787\"></circle><path stroke=\"#FFF\" stroke-width=\"1.5\" d=\"M3 6l2 2 4-4\" fill=\"#878787\"></path></g></svg><p id=\"review-551b5986-88c3-454f-803a-21c2bfb507e0\" class=\"_2mcZGG\"><span>Certified Buyer</span><span>, Bidar</span></p><div></div><p class=\"_2sc7ZR\">15 days ago</p></div><div class=\"_1e9_Zu\"><div class=\"row\"><div class=\"_27aTsS\"><div class=\"_1LmwT9\"><svg width=\"20\" height=\"15\" xmlns=\"http://www.w3.org/2000/svg\" class=\"skCrcq\"><path fill=\"#fff\" class=\"_1LIt4y\" d=\"M9.58.006c-.41.043-.794.32-1.01.728-.277.557-2.334 4.693-2.74 5.1-.41.407-.944.6-1.544.6v8.572h7.5c.45 0 .835-.28 1.007-.665 0 0 2.207-6.234 2.207-6.834 0-.6-.47-1.072-1.07-1.072h-3.216c-.6 0-1.07-.535-1.07-1.07 0-.537.835-3.387 1.006-3.944.17-.557-.107-1.157-.664-1.35-.15-.043-.257-.086-.407-.064zM0 6.434v8.572h2.143V6.434H0z\" fill-rule=\"evenodd\"></path></svg><span class=\"_3c3Px5\">363</span></div><div class=\"_1LmwT9 pkR4jH\"><svg width=\"20\" height=\"15\" xmlns=\"http://www.w3.org/2000/svg\" class=\"skCrcq pkR4jH\"><path fill=\"#fff\" class=\"_1LIt4y\" d=\"M9.58.006c-.41.043-.794.32-1.01.728-.277.557-2.334 4.693-2.74 5.1-.41.407-.944.6-1.544.6v8.572h7.5c.45 0 .835-.28 1.007-.665 0 0 2.207-6.234 2.207-6.834 0-.6-.47-1.072-1.07-1.072h-3.216c-.6 0-1.07-.535-1.07-1.07 0-.537.835-3.387 1.006-3.944.17-.557-.107-1.157-.664-1.35-.15-.043-.257-.086-.407-.064zM0 6.434v8.572h2.143V6.434H0z\" fill-rule=\"evenodd\"></path></svg><span class=\"_3c3Px5\">35</span></div></div><div class=\"_2bmov8\"><svg width=\"6\" height=\"11\" viewBox=\"0 0 16 27\" xmlns=\"http://www.w3.org/2000/svg\" class=\"_2UvOBb\"><path d=\"M16 23.207L6.11 13.161 16 3.093 12.955 0 0 13.161l12.955 13.161z\" fill=\"#fff\" class=\"_2aPE6f\"></path></svg><div class=\"_3E8aIl _38dCuf\"><div class=\"_3XCI6U\"><a href=\"/reviews/551b5986-88c3-454f-803a-21c2bfb507e0\"><span>Permalink</span></a></div><div class=\"_3XCI6U _2b2z-j\"><span>Report Abuse</span></div></div></div></div></div></div>',\n",
       " '<div class=\"row\"><div class=\"_3LWZlK _1BLPMq\">5<img src=\"data:image/svg+xml;base64,PHN2ZyB4bWxucz0iaHR0cDovL3d3dy53My5vcmcvMjAwMC9zdmciIHdpZHRoPSIxMyIgaGVpZ2h0PSIxMiI+PHBhdGggZmlsbD0iI0ZGRiIgZD0iTTYuNSA5LjQzOWwtMy42NzQgMi4yMy45NC00LjI2LTMuMjEtMi44ODMgNC4yNTQtLjQwNEw2LjUuMTEybDEuNjkgNC4wMSA0LjI1NC40MDQtMy4yMSAyLjg4Mi45NCA0LjI2eiIvPjwvc3ZnPg==\" class=\"_1wB99o\"></div><p class=\"_2-N8zT\">Terrific purchase</p></div><div class=\"row\"><div class=\"t-ZTKy\"><div><div class=\"\">Soo Good nice look</div><span class=\"_1H-bmy\"><span>READ MORE</span></span></div></div></div><div class=\"_2nMSwX _3oLIki\"><div class=\"_21YjFX _2A07HP\" style=\"background-image: url(&quot;https://rukminim1.flixcart.com/blobio/124/124/imr-202202/blobio-imr-202202_6a9b22e8527e4ecb8758ecffe7c64810.jpg?q=90&quot;), url(&quot;data:image/svg+xml;base64,PHN2ZyB3aWR0aD0iMjIiIGhlaWdodD0iMTgiIHhtbG5zPSJodHRwOi8vd3d3LnczLm9yZy8yMDAwL3N2ZyI+PGcgZmlsbD0iIzlEOUQ5RCIgZmlsbC1ydWxlPSJub256ZXJvIj48cGF0aCBkPSJNMjAgMEgyQzEgMCAwIDEgMCAydjE0YzAgMS4xLjkgMiAyIDJoMThjMSAwIDItMSAyLTJWMmMwLTEtMS0yLTItMnptMCAxNS45MmMtLjAyLjAzLS4wNi4wNi0uMDguMDhIMlYyLjA4TDIuMDggMmgxNy44M2MuMDMuMDIuMDYuMDYuMDguMDh2MTMuODRIMjB6Ii8+PHBhdGggZD0iTTEwIDEyLjUxTDcuNSA5LjUgNCAxNGgxNGwtNC41LTZ6Ii8+PC9nPjwvc3ZnPg==&quot;); width: 62px; height: 62px;\"></div><div class=\"_21YjFX _2A07HP\" style=\"background-image: url(&quot;https://rukminim1.flixcart.com/blobio/124/124/imr-202202/blobio-imr-202202_d87d11fcf6654594935de4c572b379b7.jpg?q=90&quot;), url(&quot;data:image/svg+xml;base64,PHN2ZyB3aWR0aD0iMjIiIGhlaWdodD0iMTgiIHhtbG5zPSJodHRwOi8vd3d3LnczLm9yZy8yMDAwL3N2ZyI+PGcgZmlsbD0iIzlEOUQ5RCIgZmlsbC1ydWxlPSJub256ZXJvIj48cGF0aCBkPSJNMjAgMEgyQzEgMCAwIDEgMCAydjE0YzAgMS4xLjkgMiAyIDJoMThjMSAwIDItMSAyLTJWMmMwLTEtMS0yLTItMnptMCAxNS45MmMtLjAyLjAzLS4wNi4wNi0uMDguMDhIMlYyLjA4TDIuMDggMmgxNy44M2MuMDMuMDIuMDYuMDYuMDguMDh2MTMuODRIMjB6Ii8+PHBhdGggZD0iTTEwIDEyLjUxTDcuNSA5LjUgNCAxNGgxNGwtNC41LTZ6Ii8+PC9nPjwvc3ZnPg==&quot;); width: 62px; height: 62px;\"></div></div><div class=\"row _3n8db9\"><div class=\"row\"><p class=\"_2sc7ZR _2V5EHH\">Mosim Khan</p><svg width=\"14\" height=\"14\" viewBox=\"0 0 12 12\" xmlns=\"http://www.w3.org/2000/svg\" class=\"_2a1p_T\"><g><circle cx=\"6\" cy=\"6\" r=\"6\" fill=\"#878787\"></circle><path stroke=\"#FFF\" stroke-width=\"1.5\" d=\"M3 6l2 2 4-4\" fill=\"#878787\"></path></g></svg><p id=\"review-8284cd26-e7d0-4017-ad24-4ab79e42a41a\" class=\"_2mcZGG\"><span>Certified Buyer</span><span>, Sirohi District</span></p><div></div><p class=\"_2sc7ZR\">19 days ago</p></div><div class=\"_1e9_Zu\"><div class=\"row\"><div class=\"_27aTsS\"><div class=\"_1LmwT9\"><svg width=\"20\" height=\"15\" xmlns=\"http://www.w3.org/2000/svg\" class=\"skCrcq\"><path fill=\"#fff\" class=\"_1LIt4y\" d=\"M9.58.006c-.41.043-.794.32-1.01.728-.277.557-2.334 4.693-2.74 5.1-.41.407-.944.6-1.544.6v8.572h7.5c.45 0 .835-.28 1.007-.665 0 0 2.207-6.234 2.207-6.834 0-.6-.47-1.072-1.07-1.072h-3.216c-.6 0-1.07-.535-1.07-1.07 0-.537.835-3.387 1.006-3.944.17-.557-.107-1.157-.664-1.35-.15-.043-.257-.086-.407-.064zM0 6.434v8.572h2.143V6.434H0z\" fill-rule=\"evenodd\"></path></svg><span class=\"_3c3Px5\">162</span></div><div class=\"_1LmwT9 pkR4jH\"><svg width=\"20\" height=\"15\" xmlns=\"http://www.w3.org/2000/svg\" class=\"skCrcq pkR4jH\"><path fill=\"#fff\" class=\"_1LIt4y\" d=\"M9.58.006c-.41.043-.794.32-1.01.728-.277.557-2.334 4.693-2.74 5.1-.41.407-.944.6-1.544.6v8.572h7.5c.45 0 .835-.28 1.007-.665 0 0 2.207-6.234 2.207-6.834 0-.6-.47-1.072-1.07-1.072h-3.216c-.6 0-1.07-.535-1.07-1.07 0-.537.835-3.387 1.006-3.944.17-.557-.107-1.157-.664-1.35-.15-.043-.257-.086-.407-.064zM0 6.434v8.572h2.143V6.434H0z\" fill-rule=\"evenodd\"></path></svg><span class=\"_3c3Px5\">17</span></div></div><div class=\"_2bmov8\"><svg width=\"6\" height=\"11\" viewBox=\"0 0 16 27\" xmlns=\"http://www.w3.org/2000/svg\" class=\"_2UvOBb\"><path d=\"M16 23.207L6.11 13.161 16 3.093 12.955 0 0 13.161l12.955 13.161z\" fill=\"#fff\" class=\"_2aPE6f\"></path></svg><div class=\"_3E8aIl _38dCuf\"><div class=\"_3XCI6U\"><a href=\"/reviews/8284cd26-e7d0-4017-ad24-4ab79e42a41a\"><span>Permalink</span></a></div><div class=\"_3XCI6U _2b2z-j\"><span>Report Abuse</span></div></div></div></div></div></div>',\n",
       " '<div class=\"row\"><div class=\"_3LWZlK _1BLPMq\">5<img src=\"data:image/svg+xml;base64,PHN2ZyB4bWxucz0iaHR0cDovL3d3dy53My5vcmcvMjAwMC9zdmciIHdpZHRoPSIxMyIgaGVpZ2h0PSIxMiI+PHBhdGggZmlsbD0iI0ZGRiIgZD0iTTYuNSA5LjQzOWwtMy42NzQgMi4yMy45NC00LjI2LTMuMjEtMi44ODMgNC4yNTQtLjQwNEw2LjUuMTEybDEuNjkgNC4wMSA0LjI1NC40MDQtMy4yMSAyLjg4Mi45NCA0LjI2eiIvPjwvc3ZnPg==\" class=\"_1wB99o\"></div><p class=\"_2-N8zT\">Wonderful</p></div><div class=\"row\"><div class=\"t-ZTKy\"><div><div class=\"\">Phone is good .....<br>Good for those who are searching for under range gaming phone....</div><span class=\"_1H-bmy\"><span>READ MORE</span></span></div></div></div><div class=\"_2nMSwX _3oLIki\"><div class=\"_21YjFX _2A07HP\" style=\"background-image: url(&quot;https://rukminim1.flixcart.com/blobio/124/124/imr-202202/blobio-imr-202202_bca26713c74e4a6694651aec340027bd.jpg?q=90&quot;), url(&quot;data:image/svg+xml;base64,PHN2ZyB3aWR0aD0iMjIiIGhlaWdodD0iMTgiIHhtbG5zPSJodHRwOi8vd3d3LnczLm9yZy8yMDAwL3N2ZyI+PGcgZmlsbD0iIzlEOUQ5RCIgZmlsbC1ydWxlPSJub256ZXJvIj48cGF0aCBkPSJNMjAgMEgyQzEgMCAwIDEgMCAydjE0YzAgMS4xLjkgMiAyIDJoMThjMSAwIDItMSAyLTJWMmMwLTEtMS0yLTItMnptMCAxNS45MmMtLjAyLjAzLS4wNi4wNi0uMDguMDhIMlYyLjA4TDIuMDggMmgxNy44M2MuMDMuMDIuMDYuMDYuMDguMDh2MTMuODRIMjB6Ii8+PHBhdGggZD0iTTEwIDEyLjUxTDcuNSA5LjUgNCAxNGgxNGwtNC41LTZ6Ii8+PC9nPjwvc3ZnPg==&quot;); width: 62px; height: 62px;\"></div><div class=\"_21YjFX _2A07HP\" style=\"background-image: url(&quot;https://rukminim1.flixcart.com/blobio/124/124/imr-202202/blobio-imr-202202_ead6b5f27082486aafce7d28d82c0d12.jpg?q=90&quot;), url(&quot;data:image/svg+xml;base64,PHN2ZyB3aWR0aD0iMjIiIGhlaWdodD0iMTgiIHhtbG5zPSJodHRwOi8vd3d3LnczLm9yZy8yMDAwL3N2ZyI+PGcgZmlsbD0iIzlEOUQ5RCIgZmlsbC1ydWxlPSJub256ZXJvIj48cGF0aCBkPSJNMjAgMEgyQzEgMCAwIDEgMCAydjE0YzAgMS4xLjkgMiAyIDJoMThjMSAwIDItMSAyLTJWMmMwLTEtMS0yLTItMnptMCAxNS45MmMtLjAyLjAzLS4wNi4wNi0uMDguMDhIMlYyLjA4TDIuMDggMmgxNy44M2MuMDMuMDIuMDYuMDYuMDguMDh2MTMuODRIMjB6Ii8+PHBhdGggZD0iTTEwIDEyLjUxTDcuNSA5LjUgNCAxNGgxNGwtNC41LTZ6Ii8+PC9nPjwvc3ZnPg==&quot;); width: 62px; height: 62px;\"></div><div class=\"_21YjFX _2A07HP\" style=\"background-image: url(&quot;https://rukminim1.flixcart.com/blobio/124/124/imr-202202/blobio-imr-202202_12f45c73e0c5454eac851ec90ca3987f.jpg?q=90&quot;), url(&quot;data:image/svg+xml;base64,PHN2ZyB3aWR0aD0iMjIiIGhlaWdodD0iMTgiIHhtbG5zPSJodHRwOi8vd3d3LnczLm9yZy8yMDAwL3N2ZyI+PGcgZmlsbD0iIzlEOUQ5RCIgZmlsbC1ydWxlPSJub256ZXJvIj48cGF0aCBkPSJNMjAgMEgyQzEgMCAwIDEgMCAydjE0YzAgMS4xLjkgMiAyIDJoMThjMSAwIDItMSAyLTJWMmMwLTEtMS0yLTItMnptMCAxNS45MmMtLjAyLjAzLS4wNi4wNi0uMDguMDhIMlYyLjA4TDIuMDggMmgxNy44M2MuMDMuMDIuMDYuMDYuMDguMDh2MTMuODRIMjB6Ii8+PHBhdGggZD0iTTEwIDEyLjUxTDcuNSA5LjUgNCAxNGgxNGwtNC41LTZ6Ii8+PC9nPjwvc3ZnPg==&quot;); width: 62px; height: 62px;\"></div></div><div class=\"row _3n8db9\"><div class=\"row\"><p class=\"_2sc7ZR _2V5EHH\">Flipkart Customer</p><svg width=\"14\" height=\"14\" viewBox=\"0 0 12 12\" xmlns=\"http://www.w3.org/2000/svg\" class=\"_2a1p_T\"><g><circle cx=\"6\" cy=\"6\" r=\"6\" fill=\"#878787\"></circle><path stroke=\"#FFF\" stroke-width=\"1.5\" d=\"M3 6l2 2 4-4\" fill=\"#878787\"></path></g></svg><p id=\"review-316cf161-4b3b-481e-9460-99e0307720c6\" class=\"_2mcZGG\"><span>Certified Buyer</span><span>, Paschim Medinipur District</span></p><div></div><p class=\"_2sc7ZR\">21 days ago</p></div><div class=\"_1e9_Zu\"><div class=\"row\"><div class=\"_27aTsS\"><div class=\"_1LmwT9\"><svg width=\"20\" height=\"15\" xmlns=\"http://www.w3.org/2000/svg\" class=\"skCrcq\"><path fill=\"#fff\" class=\"_1LIt4y\" d=\"M9.58.006c-.41.043-.794.32-1.01.728-.277.557-2.334 4.693-2.74 5.1-.41.407-.944.6-1.544.6v8.572h7.5c.45 0 .835-.28 1.007-.665 0 0 2.207-6.234 2.207-6.834 0-.6-.47-1.072-1.07-1.072h-3.216c-.6 0-1.07-.535-1.07-1.07 0-.537.835-3.387 1.006-3.944.17-.557-.107-1.157-.664-1.35-.15-.043-.257-.086-.407-.064zM0 6.434v8.572h2.143V6.434H0z\" fill-rule=\"evenodd\"></path></svg><span class=\"_3c3Px5\">104</span></div><div class=\"_1LmwT9 pkR4jH\"><svg width=\"20\" height=\"15\" xmlns=\"http://www.w3.org/2000/svg\" class=\"skCrcq pkR4jH\"><path fill=\"#fff\" class=\"_1LIt4y\" d=\"M9.58.006c-.41.043-.794.32-1.01.728-.277.557-2.334 4.693-2.74 5.1-.41.407-.944.6-1.544.6v8.572h7.5c.45 0 .835-.28 1.007-.665 0 0 2.207-6.234 2.207-6.834 0-.6-.47-1.072-1.07-1.072h-3.216c-.6 0-1.07-.535-1.07-1.07 0-.537.835-3.387 1.006-3.944.17-.557-.107-1.157-.664-1.35-.15-.043-.257-.086-.407-.064zM0 6.434v8.572h2.143V6.434H0z\" fill-rule=\"evenodd\"></path></svg><span class=\"_3c3Px5\">9</span></div></div><div class=\"_2bmov8\"><svg width=\"6\" height=\"11\" viewBox=\"0 0 16 27\" xmlns=\"http://www.w3.org/2000/svg\" class=\"_2UvOBb\"><path d=\"M16 23.207L6.11 13.161 16 3.093 12.955 0 0 13.161l12.955 13.161z\" fill=\"#fff\" class=\"_2aPE6f\"></path></svg><div class=\"_3E8aIl _38dCuf\"><div class=\"_3XCI6U\"><a href=\"/reviews/316cf161-4b3b-481e-9460-99e0307720c6\"><span>Permalink</span></a></div><div class=\"_3XCI6U _2b2z-j\"><span>Report Abuse</span></div></div></div></div></div></div>']"
      ]
     },
     "execution_count": 10,
     "metadata": {},
     "output_type": "execute_result"
    }
   ],
   "source": [
    "containers"
   ]
  },
  {
   "cell_type": "markdown",
   "id": "cb5515b7",
   "metadata": {},
   "source": [
    "### Getting Reviewer's Name"
   ]
  },
  {
   "cell_type": "code",
   "execution_count": 11,
   "id": "9cb9788b",
   "metadata": {},
   "outputs": [],
   "source": [
    "rev_name = []\n",
    "for container in containers:\n",
    "    doc = BeautifulSoup(container)\n",
    "    r = doc.find('div', attrs={'class':'row _3n8db9'}).text\n",
    "    rev_name.append(r)"
   ]
  },
  {
   "cell_type": "code",
   "execution_count": 12,
   "id": "48e0353b",
   "metadata": {
    "scrolled": true
   },
   "outputs": [
    {
     "data": {
      "text/plain": [
       "['Flipkart CustomerCertified Buyer, Bulandshahr District14 days ago18327PermalinkReport Abuse',\n",
       " 'Sutiksh SharmaCertified Buyer, Shivpuri21 days ago708164PermalinkReport Abuse',\n",
       " 'Ragini shrivastavCertified Buyer, Patna22 days ago18346PermalinkReport Abuse',\n",
       " 'Dhanurdhar NathCertified Buyer, Bengaluru13 days ago6211PermalinkReport Abuse',\n",
       " 'chandra mouliCertified Buyer, Dharmavaram8 days ago227PermalinkReport Abuse',\n",
       " 'Shabab AlamCertified Buyer, Bhagalpur16 days ago253PermalinkReport Abuse',\n",
       " 'vishal sharmaCertified Buyer, Ujjain11 days ago93PermalinkReport Abuse',\n",
       " 'Susheel JainCertified Buyer, Bidar15 days ago36335PermalinkReport Abuse',\n",
       " 'Mosim KhanCertified Buyer, Sirohi District19 days ago16217PermalinkReport Abuse',\n",
       " 'Flipkart CustomerCertified Buyer, Paschim Medinipur District21 days ago1049PermalinkReport Abuse']"
      ]
     },
     "execution_count": 12,
     "metadata": {},
     "output_type": "execute_result"
    }
   ],
   "source": [
    "rev_name"
   ]
  },
  {
   "cell_type": "code",
   "execution_count": 13,
   "id": "86a14664",
   "metadata": {},
   "outputs": [
    {
     "name": "stdout",
     "output_type": "stream",
     "text": [
      "['Flipkart Customer', 'Sutiksh Sharma', 'Ragini shrivastav', 'Dhanurdhar Nath', 'chandra mouli', 'Shabab Alam', 'vishal sharma', 'Susheel Jain', 'Mosim Khan', 'Flipkart Customer']\n"
     ]
    }
   ],
   "source": [
    "reviewer_name = []\n",
    "for i in rev_name:\n",
    "    x = i.split('Certified Buyer')\n",
    "    reviewer_name.append(x[0])\n",
    "print(reviewer_name)"
   ]
  },
  {
   "cell_type": "markdown",
   "id": "75b9623b",
   "metadata": {},
   "source": [
    "### Getting Rating Score"
   ]
  },
  {
   "cell_type": "code",
   "execution_count": 53,
   "id": "82a17105",
   "metadata": {
    "scrolled": false
   },
   "outputs": [
    {
     "name": "stdout",
     "output_type": "stream",
     "text": [
      "[<div class=\"_3LWZlK _1BLPMq\">5<img class=\"_1wB99o\" src=\"data:image/svg+xml;base64,PHN2ZyB4bWxucz0iaHR0cDovL3d3dy53My5vcmcvMjAwMC9zdmciIHdpZHRoPSIxMyIgaGVpZ2h0PSIxMiI+PHBhdGggZmlsbD0iI0ZGRiIgZD0iTTYuNSA5LjQzOWwtMy42NzQgMi4yMy45NC00LjI2LTMuMjEtMi44ODMgNC4yNTQtLjQwNEw2LjUuMTEybDEuNjkgNC4wMSA0LjI1NC40MDQtMy4yMSAyLjg4Mi45NCA0LjI2eiIvPjwvc3ZnPg==\"/></div>, <div class=\"_3LWZlK _1BLPMq\">3<img class=\"_1wB99o\" src=\"data:image/svg+xml;base64,PHN2ZyB4bWxucz0iaHR0cDovL3d3dy53My5vcmcvMjAwMC9zdmciIHdpZHRoPSIxMyIgaGVpZ2h0PSIxMiI+PHBhdGggZmlsbD0iI0ZGRiIgZD0iTTYuNSA5LjQzOWwtMy42NzQgMi4yMy45NC00LjI2LTMuMjEtMi44ODMgNC4yNTQtLjQwNEw2LjUuMTEybDEuNjkgNC4wMSA0LjI1NC40MDQtMy4yMSAyLjg4Mi45NCA0LjI2eiIvPjwvc3ZnPg==\"/></div>, <div class=\"_3LWZlK _1BLPMq\">4<img class=\"_1wB99o\" src=\"data:image/svg+xml;base64,PHN2ZyB4bWxucz0iaHR0cDovL3d3dy53My5vcmcvMjAwMC9zdmciIHdpZHRoPSIxMyIgaGVpZ2h0PSIxMiI+PHBhdGggZmlsbD0iI0ZGRiIgZD0iTTYuNSA5LjQzOWwtMy42NzQgMi4yMy45NC00LjI2LTMuMjEtMi44ODMgNC4yNTQtLjQwNEw2LjUuMTEybDEuNjkgNC4wMSA0LjI1NC40MDQtMy4yMSAyLjg4Mi45NCA0LjI2eiIvPjwvc3ZnPg==\"/></div>, <div class=\"_3LWZlK _1BLPMq\">5<img class=\"_1wB99o\" src=\"data:image/svg+xml;base64,PHN2ZyB4bWxucz0iaHR0cDovL3d3dy53My5vcmcvMjAwMC9zdmciIHdpZHRoPSIxMyIgaGVpZ2h0PSIxMiI+PHBhdGggZmlsbD0iI0ZGRiIgZD0iTTYuNSA5LjQzOWwtMy42NzQgMi4yMy45NC00LjI2LTMuMjEtMi44ODMgNC4yNTQtLjQwNEw2LjUuMTEybDEuNjkgNC4wMSA0LjI1NC40MDQtMy4yMSAyLjg4Mi45NCA0LjI2eiIvPjwvc3ZnPg==\"/></div>, <div class=\"_3LWZlK _1rdVr6 _1BLPMq\">1<img class=\"_1wB99o\" src=\"data:image/svg+xml;base64,PHN2ZyB4bWxucz0iaHR0cDovL3d3dy53My5vcmcvMjAwMC9zdmciIHdpZHRoPSIxMyIgaGVpZ2h0PSIxMiI+PHBhdGggZmlsbD0iI0ZGRiIgZD0iTTYuNSA5LjQzOWwtMy42NzQgMi4yMy45NC00LjI2LTMuMjEtMi44ODMgNC4yNTQtLjQwNEw2LjUuMTEybDEuNjkgNC4wMSA0LjI1NC40MDQtMy4yMSAyLjg4Mi45NCA0LjI2eiIvPjwvc3ZnPg==\"/></div>, <div class=\"_3LWZlK _1BLPMq\">3<img class=\"_1wB99o\" src=\"data:image/svg+xml;base64,PHN2ZyB4bWxucz0iaHR0cDovL3d3dy53My5vcmcvMjAwMC9zdmciIHdpZHRoPSIxMyIgaGVpZ2h0PSIxMiI+PHBhdGggZmlsbD0iI0ZGRiIgZD0iTTYuNSA5LjQzOWwtMy42NzQgMi4yMy45NC00LjI2LTMuMjEtMi44ODMgNC4yNTQtLjQwNEw2LjUuMTEybDEuNjkgNC4wMSA0LjI1NC40MDQtMy4yMSAyLjg4Mi45NCA0LjI2eiIvPjwvc3ZnPg==\"/></div>, <div class=\"_3LWZlK _32lA32 _1BLPMq\">2<img class=\"_1wB99o\" src=\"data:image/svg+xml;base64,PHN2ZyB4bWxucz0iaHR0cDovL3d3dy53My5vcmcvMjAwMC9zdmciIHdpZHRoPSIxMyIgaGVpZ2h0PSIxMiI+PHBhdGggZmlsbD0iI0ZGRiIgZD0iTTYuNSA5LjQzOWwtMy42NzQgMi4yMy45NC00LjI2LTMuMjEtMi44ODMgNC4yNTQtLjQwNEw2LjUuMTEybDEuNjkgNC4wMSA0LjI1NC40MDQtMy4yMSAyLjg4Mi45NCA0LjI2eiIvPjwvc3ZnPg==\"/></div>, <div class=\"_3LWZlK _1BLPMq\">4<img class=\"_1wB99o\" src=\"data:image/svg+xml;base64,PHN2ZyB4bWxucz0iaHR0cDovL3d3dy53My5vcmcvMjAwMC9zdmciIHdpZHRoPSIxMyIgaGVpZ2h0PSIxMiI+PHBhdGggZmlsbD0iI0ZGRiIgZD0iTTYuNSA5LjQzOWwtMy42NzQgMi4yMy45NC00LjI2LTMuMjEtMi44ODMgNC4yNTQtLjQwNEw2LjUuMTEybDEuNjkgNC4wMSA0LjI1NC40MDQtMy4yMSAyLjg4Mi45NCA0LjI2eiIvPjwvc3ZnPg==\"/></div>, <div class=\"_3LWZlK _1BLPMq\">5<img class=\"_1wB99o\" src=\"data:image/svg+xml;base64,PHN2ZyB4bWxucz0iaHR0cDovL3d3dy53My5vcmcvMjAwMC9zdmciIHdpZHRoPSIxMyIgaGVpZ2h0PSIxMiI+PHBhdGggZmlsbD0iI0ZGRiIgZD0iTTYuNSA5LjQzOWwtMy42NzQgMi4yMy45NC00LjI2LTMuMjEtMi44ODMgNC4yNTQtLjQwNEw2LjUuMTEybDEuNjkgNC4wMSA0LjI1NC40MDQtMy4yMSAyLjg4Mi45NCA0LjI2eiIvPjwvc3ZnPg==\"/></div>, <div class=\"_3LWZlK _1BLPMq\">5<img class=\"_1wB99o\" src=\"data:image/svg+xml;base64,PHN2ZyB4bWxucz0iaHR0cDovL3d3dy53My5vcmcvMjAwMC9zdmciIHdpZHRoPSIxMyIgaGVpZ2h0PSIxMiI+PHBhdGggZmlsbD0iI0ZGRiIgZD0iTTYuNSA5LjQzOWwtMy42NzQgMi4yMy45NC00LjI2LTMuMjEtMi44ODMgNC4yNTQtLjQwNEw2LjUuMTEybDEuNjkgNC4wMSA0LjI1NC40MDQtMy4yMSAyLjg4Mi45NCA0LjI2eiIvPjwvc3ZnPg==\"/></div>]\n"
     ]
    }
   ],
   "source": [
    "rating = []\n",
    "for container in containers:\n",
    "    doc = BeautifulSoup(container)\n",
    "    r = doc.find('div', attrs={'class':'_3LWZlK'})\n",
    "    rating.append(r)\n",
    "print(rating)\n",
    "#for i in rating:\n",
    "#    x = i.split('<img class=')\n",
    "#    rating_act.append(x[0])\n",
    "#print(rating_act)"
   ]
  },
  {
   "cell_type": "code",
   "execution_count": 54,
   "id": "d62f05c7",
   "metadata": {
    "scrolled": true
   },
   "outputs": [],
   "source": [
    "#for i in rating:\n",
    "#    print(i)"
   ]
  },
  {
   "cell_type": "code",
   "execution_count": 46,
   "id": "84f1e70b",
   "metadata": {},
   "outputs": [
    {
     "data": {
      "text/plain": [
       "bs4.element.Tag"
      ]
     },
     "execution_count": 46,
     "metadata": {},
     "output_type": "execute_result"
    }
   ],
   "source": [
    "type(r)"
   ]
  },
  {
   "cell_type": "code",
   "execution_count": 55,
   "id": "e5e38a65",
   "metadata": {},
   "outputs": [
    {
     "data": {
      "text/plain": [
       "10"
      ]
     },
     "execution_count": 55,
     "metadata": {},
     "output_type": "execute_result"
    }
   ],
   "source": [
    "len(rating)"
   ]
  },
  {
   "cell_type": "code",
   "execution_count": 63,
   "id": "f5cace8a",
   "metadata": {},
   "outputs": [
    {
     "name": "stdout",
     "output_type": "stream",
     "text": [
      "<class 'str'>\n",
      "<class 'str'>\n",
      "<class 'str'>\n",
      "<class 'str'>\n",
      "<class 'str'>\n",
      "<class 'str'>\n",
      "<class 'str'>\n",
      "<class 'str'>\n",
      "<class 'str'>\n",
      "<class 'str'>\n"
     ]
    }
   ],
   "source": [
    "rating_str= []\n",
    "for i in rating:\n",
    "    i = str(i)\n",
    "    rating_str.append(i)\n",
    "    print(type(i))"
   ]
  },
  {
   "cell_type": "code",
   "execution_count": 65,
   "id": "1f086735",
   "metadata": {},
   "outputs": [
    {
     "data": {
      "text/plain": [
       "10"
      ]
     },
     "execution_count": 65,
     "metadata": {},
     "output_type": "execute_result"
    }
   ],
   "source": [
    "len(rating_str)"
   ]
  },
  {
   "cell_type": "code",
   "execution_count": 66,
   "id": "a0143264",
   "metadata": {},
   "outputs": [
    {
     "data": {
      "text/plain": [
       "'<div class=\"_3LWZlK _1BLPMq\">5<img class=\"_1wB99o\" src=\"data:image/svg+xml;base64,PHN2ZyB4bWxucz0iaHR0cDovL3d3dy53My5vcmcvMjAwMC9zdmciIHdpZHRoPSIxMyIgaGVpZ2h0PSIxMiI+PHBhdGggZmlsbD0iI0ZGRiIgZD0iTTYuNSA5LjQzOWwtMy42NzQgMi4yMy45NC00LjI2LTMuMjEtMi44ODMgNC4yNTQtLjQwNEw2LjUuMTEybDEuNjkgNC4wMSA0LjI1NC40MDQtMy4yMSAyLjg4Mi45NCA0LjI2eiIvPjwvc3ZnPg==\"/></div>'"
      ]
     },
     "execution_count": 66,
     "metadata": {},
     "output_type": "execute_result"
    }
   ],
   "source": [
    "rating_str[0]"
   ]
  },
  {
   "cell_type": "code",
   "execution_count": 69,
   "id": "e3e50ff0",
   "metadata": {},
   "outputs": [
    {
     "name": "stdout",
     "output_type": "stream",
     "text": [
      "['<div class=\"_3LWZlK _1BLPMq\">5', '<div class=\"_3LWZlK _1BLPMq\">3', '<div class=\"_3LWZlK _1BLPMq\">4', '<div class=\"_3LWZlK _1BLPMq\">5', '<div class=\"_3LWZlK _1rdVr6 _1BLPMq\">1', '<div class=\"_3LWZlK _1BLPMq\">3', '<div class=\"_3LWZlK _32lA32 _1BLPMq\">2', '<div class=\"_3LWZlK _1BLPMq\">4', '<div class=\"_3LWZlK _1BLPMq\">5', '<div class=\"_3LWZlK _1BLPMq\">5']\n"
     ]
    }
   ],
   "source": [
    "rating_act = []\n",
    "for i in rating_str:\n",
    "    x = i.split('<img class=')\n",
    "    rating_act.append(x[0])\n",
    "print(rating_act)"
   ]
  },
  {
   "cell_type": "code",
   "execution_count": 74,
   "id": "68118845",
   "metadata": {},
   "outputs": [
    {
     "name": "stdout",
     "output_type": "stream",
     "text": [
      "<div class=\"_3LWZlK _1BLPMq\">5\n",
      "<div class=\"_3LWZlK _1BLPMq\">3\n",
      "<div class=\"_3LWZlK _1BLPMq\">4\n",
      "<div class=\"_3LWZlK _1BLPMq\">5\n",
      "<div class=\"_3LWZlK _1rdVr6 _1BLPMq\">1\n",
      "<div class=\"_3LWZlK _1BLPMq\">3\n",
      "<div class=\"_3LWZlK _32lA32 _1BLPMq\">2\n",
      "<div class=\"_3LWZlK _1BLPMq\">4\n",
      "<div class=\"_3LWZlK _1BLPMq\">5\n",
      "<div class=\"_3LWZlK _1BLPMq\">5\n",
      "['5', '3', '4', '5', '1', '3', '2', '4', '5', '5']\n"
     ]
    }
   ],
   "source": [
    "r1 = []\n",
    "for i in rating_act:\n",
    "    print(i)\n",
    "    x = i.split('>')\n",
    "    r1.append(x[1])\n",
    "print(r1)"
   ]
  },
  {
   "cell_type": "markdown",
   "id": "e6a2b66f",
   "metadata": {},
   "source": [
    "### Getting Rating Score --> xxxxxx"
   ]
  },
  {
   "cell_type": "code",
   "execution_count": 80,
   "id": "9816ccde",
   "metadata": {
    "scrolled": false
   },
   "outputs": [],
   "source": [
    "#good_rating = []\n",
    "#bad_worst_rating = []\n",
    "#for elem in browser.find_elements_by_xpath('//div[@class = \"_3LWZlK _1BLPMq\"]'):\n",
    "#for elem in browser.find_elements_by_xpath('//div[@class =\"row\"]'):\n",
    "#    try:\n",
    "#        good_rating.append(elem.text)\n",
    "#    except:\n",
    "#        good_rating.append(np.nan)\n",
    "#print(good_rating)"
   ]
  },
  {
   "cell_type": "code",
   "execution_count": 76,
   "id": "a1292988",
   "metadata": {
    "scrolled": true
   },
   "outputs": [],
   "source": [
    "#good_rating = []\n",
    "#bad_worst_rating = []\n",
    "#for elem in browser.find_elements_by_xpath('//div[@class = \"col _2wzgFH K0kLPL\"]'):\n",
    "#for elem in browser.find_elements_by_xpath('//div[@class =\"row\"]'):\n",
    "#    try:\n",
    "#        bad_worst_rating.append(elem)\n",
    "#    except:\n",
    "#        bad_worst_rating.append(np.nan)\n",
    "#print(bad_worst_rating)"
   ]
  },
  {
   "cell_type": "code",
   "execution_count": 77,
   "id": "3f4f5f7f",
   "metadata": {},
   "outputs": [],
   "source": [
    "#len(bad_worst_rating)"
   ]
  },
  {
   "cell_type": "code",
   "execution_count": 78,
   "id": "6110a578",
   "metadata": {},
   "outputs": [],
   "source": [
    "#worst_rating = []\n",
    "#for elem in browser.find_elements_by_xpath('//div[@class = \"_3LWZlK _1rdVr6 _1BLPMq\"]'):\n",
    "#    try:\n",
    "#        worst_rating.append(elem.text)\n",
    "#    except:\n",
    "#        worst_rating.append(np.nan)\n",
    "#print(worst_rating)"
   ]
  },
  {
   "cell_type": "code",
   "execution_count": 79,
   "id": "b7e9b136",
   "metadata": {},
   "outputs": [],
   "source": [
    "#bad_rating = []\n",
    "#for elem in browser.find_elements_by_xpath('//div[@class = \"_3LWZlK _32lA32 _1BLPMq\"]'):\n",
    "#    try:\n",
    "#        bad_rating.append(elem.text)\n",
    "#    except:\n",
    "#        bad_rating.append(np.nan)\n",
    "#print(bad_rating)"
   ]
  },
  {
   "cell_type": "markdown",
   "id": "a533a568",
   "metadata": {},
   "source": [
    "### Getting Reviews"
   ]
  },
  {
   "cell_type": "code",
   "execution_count": 17,
   "id": "10b39127",
   "metadata": {
    "scrolled": false
   },
   "outputs": [
    {
     "name": "stderr",
     "output_type": "stream",
     "text": [
      "<ipython-input-17-c9cad2b5737a>:2: DeprecationWarning: find_elements_by_* commands are deprecated. Please use find_elements() instead\n",
      "  for elem in browser.find_elements_by_xpath('//div[@class = \"row\"]'):\n"
     ]
    },
    {
     "name": "stdout",
     "output_type": "stream",
     "text": [
      "['4.3★', '5\\nFabulous!', 'superb phone\\ni am very happy to buy it\\ncolour camara and screen was fantastic\\ni really love it\\nthanku 😊😊', 'Flipkart Customer\\nCertified Buyer, Bulandshahr District\\n14 days ago', '18327', '3\\nDecent product', 'Reasons for giving 3 stars, super night mode is not available in 4gb varient and this was not clearly mentioned, no 30w fast charging, drop notch display, these are the only cons i found. rest is good.', 'Sutiksh Sharma\\nCertified Buyer, Shivpuri\\n21 days ago', '708164', '4\\nVery Good', 'As usual we all known that Vivo is famous for their camera. If you look for good camera quality and space go for it. It looks is awsm 💁🏻\\u200d♀️\\nDisadvantages :- screen touch 2/5 I rated bcz its not working properly and after installing apps its work more slower thn before 🥴', 'Ragini shrivastav\\nCertified Buyer, Patna\\n22 days ago', '18346', '5\\nClassy product', 'I have used this device for 12 days this device no any issues & perfectly work but BGMI gaming There is a problem in doing this, there is an automatic refresh, it may be fixed after the software update ।I am very happy to buy this mobile I really liked the color of it and the camera frame was also very nice And the display is IPS not so good but when used outside, its light remains bright. And talking about the network, after the arrival of 5g, you will know how much speed it is giving, it is running well in 4g.', 'Dhanurdhar Nath\\nCertified Buyer, Bengaluru\\n13 days ago', '6211', '1\\nAbsolute rubbish!', 'I bought 4gb varient mobile, touch screen wont work normally we have to press like 4-5 time to go back or to go home. Worst mobile, os works like very slow. Overall i give rating 1 that is more than enough. Vivo needs to work on this mobile asap.', 'chandra mouli\\nCertified Buyer, Dharmavaram\\n8 days ago', '227', '3\\nGood', 'Good phn but camera not good as i expected\\nBattery backup v.good charger not worth 18W i expect this phn has 44W', 'Shabab Alam\\nCertified Buyer, Bhagalpur\\n16 days ago', '253', '2\\nSlightly disappointed', 'Nice camera and battery good but hanging issue, performance not good as excepted.\\nI i am very disappointed with the smart phone so i suggest dont buy this....', 'vishal sharma\\nCertified Buyer, Ujjain\\n11 days ago', '93', '4\\nNice product', '🙏Thanks to Flipkart, I got VIVO T1 5g segment Android mobile cameras performance is good👍 battery backup has excellent🔋overall performance was nice ; recommend to flipkart customers dont worry get this 5g mbile.......', 'Susheel Jain\\nCertified Buyer, Bidar\\n15 days ago', '36335', '5\\nTerrific purchase', 'Soo Good nice look', 'Mosim Khan\\nCertified Buyer, Sirohi District\\n19 days ago', '16217', '5\\nWonderful', 'Phone is good .....\\nGood for those who are searching for under range gaming phone....', 'Flipkart Customer\\nCertified Buyer, Paschim Medinipur District\\n21 days ago', '1049', '']\n"
     ]
    }
   ],
   "source": [
    "reviews = []\n",
    "for elem in browser.find_elements_by_xpath('//div[@class = \"row\"]'):\n",
    "    reviews.append(elem.text)\n",
    "print(reviews)"
   ]
  },
  {
   "cell_type": "markdown",
   "id": "dea7e2c4",
   "metadata": {},
   "source": [
    "### Getting Overall Feedback"
   ]
  },
  {
   "cell_type": "code",
   "execution_count": 18,
   "id": "17b9f178",
   "metadata": {
    "scrolled": true
   },
   "outputs": [
    {
     "name": "stdout",
     "output_type": "stream",
     "text": [
      "['Fabulous!', 'Decent product', 'Very Good', 'Classy product', 'Absolute rubbish!', 'Good', 'Slightly disappointed', 'Nice product', 'Terrific purchase', 'Wonderful']\n"
     ]
    },
    {
     "name": "stderr",
     "output_type": "stream",
     "text": [
      "<ipython-input-18-de80d9f41052>:2: DeprecationWarning: find_elements_by_* commands are deprecated. Please use find_elements() instead\n",
      "  for elem in browser.find_elements_by_xpath('//p[@class = \"_2-N8zT\"]'):\n"
     ]
    }
   ],
   "source": [
    "Overall_feedback = []\n",
    "for elem in browser.find_elements_by_xpath('//p[@class = \"_2-N8zT\"]'):\n",
    "    Overall_feedback.append(elem.text)\n",
    "print(Overall_feedback)"
   ]
  },
  {
   "cell_type": "markdown",
   "id": "b3e69b02",
   "metadata": {},
   "source": [
    "### Getting Buy time"
   ]
  },
  {
   "cell_type": "code",
   "execution_count": 19,
   "id": "ad03be07",
   "metadata": {},
   "outputs": [
    {
     "name": "stdout",
     "output_type": "stream",
     "text": [
      "['14 days ago', '21 days ago', '22 days ago', '13 days ago', '8 days ago', '16 days ago', '11 days ago', '15 days ago', '19 days ago', '21 days ago']\n"
     ]
    },
    {
     "name": "stderr",
     "output_type": "stream",
     "text": [
      "<ipython-input-19-501ab4310d0c>:2: DeprecationWarning: find_elements_by_* commands are deprecated. Please use find_elements() instead\n",
      "  for elem in browser.find_elements_by_xpath('//p[@class = \"_2sc7ZR\"]'):\n"
     ]
    }
   ],
   "source": [
    "buy_time = []\n",
    "for elem in browser.find_elements_by_xpath('//p[@class = \"_2sc7ZR\"]'):\n",
    "    buy_time.append(elem.text)\n",
    "print(buy_time)"
   ]
  },
  {
   "cell_type": "markdown",
   "id": "da8ff231",
   "metadata": {},
   "source": [
    "### Getting Reviews"
   ]
  },
  {
   "cell_type": "code",
   "execution_count": 20,
   "id": "9f2f2db3",
   "metadata": {
    "scrolled": false
   },
   "outputs": [
    {
     "name": "stdout",
     "output_type": "stream",
     "text": [
      "['superb phone\\ni am very happy to buy it\\ncolour camara and screen was fantastic\\ni really love it\\nthanku 😊😊', 'Reasons for giving 3 stars, super night mode is not available in 4gb varient and this was not clearly mentioned, no 30w fast charging, drop notch display, these are the only cons i found. rest is good.', 'As usual we all known that Vivo is famous for their camera. If you look for good camera quality and space go for it. It looks is awsm 💁🏻\\u200d♀️\\nDisadvantages :- screen touch 2/5 I rated bcz its not working properly and after installing apps its work more slower thn before 🥴', 'I have used this device for 12 days this device no any issues & perfectly work but BGMI gaming There is a problem in doing this, there is an automatic refresh, it may be fixed after the software update ।I am very happy to buy this mobile I really liked the color of it and the camera frame was also very nice And the display is IPS not so good but when used outside, its light remains bright. And talking about the network, after the arrival of 5g, you will know how much speed it is giving, it is running well in 4g.', 'I bought 4gb varient mobile, touch screen wont work normally we have to press like 4-5 time to go back or to go home. Worst mobile, os works like very slow. Overall i give rating 1 that is more than enough. Vivo needs to work on this mobile asap.', 'Good phn but camera not good as i expected\\nBattery backup v.good charger not worth 18W i expect this phn has 44W', 'Nice camera and battery good but hanging issue, performance not good as excepted.\\nI i am very disappointed with the smart phone so i suggest dont buy this....', '🙏Thanks to Flipkart, I got VIVO T1 5g segment Android mobile cameras performance is good👍 battery backup has excellent🔋overall performance was nice ; recommend to flipkart customers dont worry get this 5g mbile.......', 'Soo Good nice look', 'Phone is good .....\\nGood for those who are searching for under range gaming phone....']\n"
     ]
    },
    {
     "name": "stderr",
     "output_type": "stream",
     "text": [
      "<ipython-input-20-dbf70443b6da>:2: DeprecationWarning: find_elements_by_* commands are deprecated. Please use find_elements() instead\n",
      "  for elem in browser.find_elements_by_xpath('//div[@class = \"t-ZTKy\"]'):\n"
     ]
    }
   ],
   "source": [
    "only_review = []\n",
    "for elem in browser.find_elements_by_xpath('//div[@class = \"t-ZTKy\"]'):\n",
    "    only_review.append(elem.text)\n",
    "print(only_review)"
   ]
  },
  {
   "cell_type": "code",
   "execution_count": 21,
   "id": "7a556f7e",
   "metadata": {
    "scrolled": true
   },
   "outputs": [
    {
     "data": {
      "text/plain": [
       "'superb phone\\ni am very happy to buy it\\ncolour camara and screen was fantastic\\ni really love it\\nthanku 😊😊'"
      ]
     },
     "execution_count": 21,
     "metadata": {},
     "output_type": "execute_result"
    }
   ],
   "source": [
    "only_review[0]"
   ]
  },
  {
   "cell_type": "code",
   "execution_count": 22,
   "id": "b61bb993",
   "metadata": {},
   "outputs": [],
   "source": [
    "import re"
   ]
  },
  {
   "cell_type": "code",
   "execution_count": 36,
   "id": "d49d4afe",
   "metadata": {},
   "outputs": [
    {
     "name": "stdout",
     "output_type": "stream",
     "text": [
      "['superb phone i am very happy to buy it colour camara and screen was fantastic i really love it thanku 😊😊', 'Reasons for giving 3 stars, super night mode is not available in 4gb varient and this was not clearly mentioned, no 30w fast charging, drop notch display, these are the only cons i found. rest is good.', 'As usual we all known that Vivo is famous for their camera. If you look for good camera quality and space go for it. It looks is awsm 💁🏻\\u200d♀️ Disadvantages :- screen touch 2/5 I rated bcz its not working properly and after installing apps its work more slower thn before 🥴', 'I have used this device for 12 days this device no any issues & perfectly work but BGMI gaming There is a problem in doing this, there is an automatic refresh, it may be fixed after the software update ।I am very happy to buy this mobile I really liked the color of it and the camera frame was also very nice And the display is IPS not so good but when used outside, its light remains bright. And talking about the network, after the arrival of 5g, you will know how much speed it is giving, it is running well in 4g.', 'I bought 4gb varient mobile, touch screen wont work normally we have to press like 4-5 time to go back or to go home. Worst mobile, os works like very slow. Overall i give rating 1 that is more than enough. Vivo needs to work on this mobile asap.', 'Good phn but camera not good as i expected Battery backup v.good charger not worth 18W i expect this phn has 44W', 'Nice camera and battery good but hanging issue, performance not good as excepted. I i am very disappointed with the smart phone so i suggest dont buy this....', '🙏Thanks to Flipkart, I got VIVO T1 5g segment Android mobile cameras performance is good👍 battery backup has excellent🔋overall performance was nice ; recommend to flipkart customers dont worry get this 5g mbile.......', 'Soo Good nice look', 'Phone is good ..... Good for those who are searching for under range gaming phone....']\n"
     ]
    }
   ],
   "source": [
    "clean_review = []\n",
    "for r in only_review:\n",
    "    r= r.strip()\n",
    "    z = re.sub(\"\\\\n+\",' ',r)\n",
    "    clean_review.append(z)\n",
    "print(clean_review)"
   ]
  },
  {
   "cell_type": "code",
   "execution_count": 37,
   "id": "f330c056",
   "metadata": {},
   "outputs": [
    {
     "data": {
      "text/plain": [
       "10"
      ]
     },
     "execution_count": 37,
     "metadata": {},
     "output_type": "execute_result"
    }
   ],
   "source": [
    "len(clean_review)"
   ]
  },
  {
   "cell_type": "code",
   "execution_count": 38,
   "id": "609b3b21",
   "metadata": {},
   "outputs": [
    {
     "data": {
      "text/plain": [
       "'superb phone i am very happy to buy it colour camara and screen was fantastic i really love it thanku 😊😊'"
      ]
     },
     "execution_count": 38,
     "metadata": {},
     "output_type": "execute_result"
    }
   ],
   "source": [
    "clean_review[0]"
   ]
  },
  {
   "cell_type": "code",
   "execution_count": 81,
   "id": "1e032e73",
   "metadata": {},
   "outputs": [],
   "source": [
    "#customer = []\n",
    "#for e in reviews:\n",
    "#    e.split('\\n')\n",
    "#    print(e)"
   ]
  },
  {
   "cell_type": "code",
   "execution_count": 83,
   "id": "2bd3df5f",
   "metadata": {},
   "outputs": [],
   "source": [
    "d = {'Reviewer_Name':reviewer_name, 'Buy_Time':buy_time, 'Feedback':Overall_feedback, 'Rating_Score': r1, \n",
    "     'Review': clean_review}\n",
    "df = pd.DataFrame(d)"
   ]
  },
  {
   "cell_type": "code",
   "execution_count": 84,
   "id": "cea959f8",
   "metadata": {},
   "outputs": [
    {
     "data": {
      "text/html": [
       "<div>\n",
       "<style scoped>\n",
       "    .dataframe tbody tr th:only-of-type {\n",
       "        vertical-align: middle;\n",
       "    }\n",
       "\n",
       "    .dataframe tbody tr th {\n",
       "        vertical-align: top;\n",
       "    }\n",
       "\n",
       "    .dataframe thead th {\n",
       "        text-align: right;\n",
       "    }\n",
       "</style>\n",
       "<table border=\"1\" class=\"dataframe\">\n",
       "  <thead>\n",
       "    <tr style=\"text-align: right;\">\n",
       "      <th></th>\n",
       "      <th>Reviewer_Name</th>\n",
       "      <th>Buy_Time</th>\n",
       "      <th>Feedback</th>\n",
       "      <th>Rating_Score</th>\n",
       "      <th>Review</th>\n",
       "    </tr>\n",
       "  </thead>\n",
       "  <tbody>\n",
       "    <tr>\n",
       "      <th>0</th>\n",
       "      <td>Flipkart Customer</td>\n",
       "      <td>14 days ago</td>\n",
       "      <td>Fabulous!</td>\n",
       "      <td>5</td>\n",
       "      <td>superb phone i am very happy to buy it colour ...</td>\n",
       "    </tr>\n",
       "    <tr>\n",
       "      <th>1</th>\n",
       "      <td>Sutiksh Sharma</td>\n",
       "      <td>21 days ago</td>\n",
       "      <td>Decent product</td>\n",
       "      <td>3</td>\n",
       "      <td>Reasons for giving 3 stars, super night mode i...</td>\n",
       "    </tr>\n",
       "    <tr>\n",
       "      <th>2</th>\n",
       "      <td>Ragini shrivastav</td>\n",
       "      <td>22 days ago</td>\n",
       "      <td>Very Good</td>\n",
       "      <td>4</td>\n",
       "      <td>As usual we all known that Vivo is famous for ...</td>\n",
       "    </tr>\n",
       "    <tr>\n",
       "      <th>3</th>\n",
       "      <td>Dhanurdhar Nath</td>\n",
       "      <td>13 days ago</td>\n",
       "      <td>Classy product</td>\n",
       "      <td>5</td>\n",
       "      <td>I have used this device for 12 days this devic...</td>\n",
       "    </tr>\n",
       "    <tr>\n",
       "      <th>4</th>\n",
       "      <td>chandra mouli</td>\n",
       "      <td>8 days ago</td>\n",
       "      <td>Absolute rubbish!</td>\n",
       "      <td>1</td>\n",
       "      <td>I bought 4gb varient mobile, touch screen wont...</td>\n",
       "    </tr>\n",
       "    <tr>\n",
       "      <th>5</th>\n",
       "      <td>Shabab Alam</td>\n",
       "      <td>16 days ago</td>\n",
       "      <td>Good</td>\n",
       "      <td>3</td>\n",
       "      <td>Good phn but camera not good as i expected Bat...</td>\n",
       "    </tr>\n",
       "    <tr>\n",
       "      <th>6</th>\n",
       "      <td>vishal sharma</td>\n",
       "      <td>11 days ago</td>\n",
       "      <td>Slightly disappointed</td>\n",
       "      <td>2</td>\n",
       "      <td>Nice camera and battery good but hanging issue...</td>\n",
       "    </tr>\n",
       "    <tr>\n",
       "      <th>7</th>\n",
       "      <td>Susheel Jain</td>\n",
       "      <td>15 days ago</td>\n",
       "      <td>Nice product</td>\n",
       "      <td>4</td>\n",
       "      <td>🙏Thanks to Flipkart, I got VIVO T1 5g segment ...</td>\n",
       "    </tr>\n",
       "    <tr>\n",
       "      <th>8</th>\n",
       "      <td>Mosim Khan</td>\n",
       "      <td>19 days ago</td>\n",
       "      <td>Terrific purchase</td>\n",
       "      <td>5</td>\n",
       "      <td>Soo Good nice look</td>\n",
       "    </tr>\n",
       "    <tr>\n",
       "      <th>9</th>\n",
       "      <td>Flipkart Customer</td>\n",
       "      <td>21 days ago</td>\n",
       "      <td>Wonderful</td>\n",
       "      <td>5</td>\n",
       "      <td>Phone is good ..... Good for those who are sea...</td>\n",
       "    </tr>\n",
       "  </tbody>\n",
       "</table>\n",
       "</div>"
      ],
      "text/plain": [
       "       Reviewer_Name     Buy_Time               Feedback Rating_Score  \\\n",
       "0  Flipkart Customer  14 days ago              Fabulous!            5   \n",
       "1     Sutiksh Sharma  21 days ago         Decent product            3   \n",
       "2  Ragini shrivastav  22 days ago              Very Good            4   \n",
       "3    Dhanurdhar Nath  13 days ago         Classy product            5   \n",
       "4      chandra mouli   8 days ago      Absolute rubbish!            1   \n",
       "5        Shabab Alam  16 days ago                   Good            3   \n",
       "6      vishal sharma  11 days ago  Slightly disappointed            2   \n",
       "7       Susheel Jain  15 days ago           Nice product            4   \n",
       "8         Mosim Khan  19 days ago      Terrific purchase            5   \n",
       "9  Flipkart Customer  21 days ago              Wonderful            5   \n",
       "\n",
       "                                              Review  \n",
       "0  superb phone i am very happy to buy it colour ...  \n",
       "1  Reasons for giving 3 stars, super night mode i...  \n",
       "2  As usual we all known that Vivo is famous for ...  \n",
       "3  I have used this device for 12 days this devic...  \n",
       "4  I bought 4gb varient mobile, touch screen wont...  \n",
       "5  Good phn but camera not good as i expected Bat...  \n",
       "6  Nice camera and battery good but hanging issue...  \n",
       "7  🙏Thanks to Flipkart, I got VIVO T1 5g segment ...  \n",
       "8                                 Soo Good nice look  \n",
       "9  Phone is good ..... Good for those who are sea...  "
      ]
     },
     "execution_count": 84,
     "metadata": {},
     "output_type": "execute_result"
    }
   ],
   "source": [
    "df"
   ]
  },
  {
   "cell_type": "code",
   "execution_count": null,
   "id": "881a28eb",
   "metadata": {},
   "outputs": [],
   "source": []
  }
 ],
 "metadata": {
  "kernelspec": {
   "display_name": "Python 3",
   "language": "python",
   "name": "python3"
  },
  "language_info": {
   "codemirror_mode": {
    "name": "ipython",
    "version": 3
   },
   "file_extension": ".py",
   "mimetype": "text/x-python",
   "name": "python",
   "nbconvert_exporter": "python",
   "pygments_lexer": "ipython3",
   "version": "3.8.8"
  }
 },
 "nbformat": 4,
 "nbformat_minor": 5
}
