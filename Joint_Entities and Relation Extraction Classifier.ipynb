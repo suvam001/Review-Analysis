{
  "nbformat": 4,
  "nbformat_minor": 0,
  "metadata": {
    "colab": {
      "name": "Joint_Entities_and_Relation_Extraction_Classifier.ipynb",
      "provenance": [],
      "collapsed_sections": []
    },
    "kernelspec": {
      "name": "python3",
      "display_name": "Python 3"
    },
    "language_info": {
      "name": "python"
    },
    "accelerator": "GPU"
  },
  "cells": [
    {
      "cell_type": "code",
      "source": [
        "%%capture\n",
        "!pip install -U spacy-nightly --pre\n",
        "!pip install -U pip setuptools wheel\n",
        "!python -m spacy project clone tutorials/rel_component\n",
        "!python -m spacy download en_core_web_trf\n",
        "!pip install -U spacy transformers"
      ],
      "metadata": {
        "id": "9VqAOiGnfWY2"
      },
      "execution_count": 15,
      "outputs": []
    },
    {
      "cell_type": "code",
      "source": [
        "pwd"
      ],
      "metadata": {
        "colab": {
          "base_uri": "https://localhost:8080/",
          "height": 36
        },
        "id": "x-60cwyxwP2B",
        "outputId": "73d78045-5776-48f3-ece0-6774afb30853"
      },
      "execution_count": 16,
      "outputs": [
        {
          "output_type": "execute_result",
          "data": {
            "text/plain": [
              "'/content'"
            ],
            "application/vnd.google.colaboratory.intrinsic+json": {
              "type": "string"
            }
          },
          "metadata": {},
          "execution_count": 16
        }
      ]
    },
    {
      "cell_type": "code",
      "source": [
        "%cd /content/rel_component"
      ],
      "metadata": {
        "colab": {
          "base_uri": "https://localhost:8080/"
        },
        "id": "bl6Xb5hvf40x",
        "outputId": "2bbafef4-a5c4-4610-c4da-1daa2fb0d9e4"
      },
      "execution_count": 18,
      "outputs": [
        {
          "output_type": "stream",
          "name": "stdout",
          "text": [
            "/content/rel_component\n"
          ]
        }
      ]
    },
    {
      "cell_type": "code",
      "source": [
        "!spacy project run train_gpu"
      ],
      "metadata": {
        "colab": {
          "base_uri": "https://localhost:8080/"
        },
        "id": "2K-_32FVgRlP",
        "outputId": "695e2f60-c111-4fe3-fd90-00ff17696f27"
      },
      "execution_count": 20,
      "outputs": [
        {
          "output_type": "stream",
          "name": "stdout",
          "text": [
            "\u001b[1m\n",
            "================================= train_gpu =================================\u001b[0m\n",
            "Running command: /usr/bin/python3 -m spacy train configs/rel_trf.cfg --output training --paths.train /content/rel_component/data/rajdeep1_train.spacy --paths.dev /content/rel_component/data/baitalik1.spacy -c ./scripts/custom_functions.py --gpu-id 0\n",
            "\u001b[38;5;4mℹ Saving to output directory: training\u001b[0m\n",
            "\u001b[38;5;4mℹ Using GPU: 0\u001b[0m\n",
            "\u001b[1m\n",
            "=========================== Initializing pipeline ===========================\u001b[0m\n",
            "[2022-05-14 06:42:22,412] [INFO] Set up nlp object from config\n",
            "[2022-05-14 06:42:22,423] [INFO] Pipeline: ['transformer', 'relation_extractor']\n",
            "[2022-05-14 06:42:22,428] [INFO] Created vocabulary\n",
            "[2022-05-14 06:42:22,430] [INFO] Finished initializing nlp object\n",
            "Downloading: 100% 481/481 [00:00<00:00, 426kB/s]\n",
            "Downloading: 100% 878k/878k [00:00<00:00, 5.36MB/s]\n",
            "Downloading: 100% 446k/446k [00:00<00:00, 3.37MB/s]\n",
            "Downloading: 100% 1.29M/1.29M [00:00<00:00, 7.79MB/s]\n",
            "Downloading: 100% 478M/478M [00:10<00:00, 49.1MB/s]\n",
            "Some weights of the model checkpoint at roberta-base were not used when initializing RobertaModel: ['lm_head.layer_norm.weight', 'lm_head.bias', 'lm_head.decoder.weight', 'lm_head.dense.weight', 'lm_head.layer_norm.bias', 'lm_head.dense.bias']\n",
            "- This IS expected if you are initializing RobertaModel from the checkpoint of a model trained on another task or with another architecture (e.g. initializing a BertForSequenceClassification model from a BertForPreTraining model).\n",
            "- This IS NOT expected if you are initializing RobertaModel from the checkpoint of a model that you expect to be exactly identical (initializing a BertForSequenceClassification model from a BertForSequenceClassification model).\n",
            "[2022-05-14 06:43:43,739] [INFO] Initialized pipeline components: ['transformer', 'relation_extractor']\n",
            "\u001b[38;5;2m✔ Initialized pipeline\u001b[0m\n",
            "\u001b[1m\n",
            "============================= Training pipeline =============================\u001b[0m\n",
            "\u001b[38;5;4mℹ Pipeline: ['transformer', 'relation_extractor']\u001b[0m\n",
            "\u001b[38;5;4mℹ Initial learn rate: 0.0\u001b[0m\n",
            "E    #       LOSS TRANS...  LOSS RELAT...  REL_MICRO_P  REL_MICRO_R  REL_MICRO_F  SCORE \n",
            "---  ------  -------------  -------------  -----------  -----------  -----------  ------\n",
            "  0       0           0.06           0.43        29.90       100.00        46.03    0.46\n",
            " 50     100           8.68          11.88        62.50        77.59        69.23    0.69\n",
            "100     200           0.05           4.14        63.38        77.59        69.77    0.70\n",
            "150     300           0.01           3.81        62.50        77.59        69.23    0.69\n",
            "200     400           0.01           3.80        66.18        77.59        71.43    0.71\n",
            "250     500           0.01           3.79        65.22        77.59        70.87    0.71\n",
            "300     600           0.01           3.79        66.18        77.59        71.43    0.71\n",
            "350     700           0.01           3.78        65.22        77.59        70.87    0.71\n",
            "400     800           0.01           3.78        65.22        77.59        70.87    0.71\n",
            "450     900           0.01           3.78        61.64        77.59        68.70    0.69\n",
            "500    1000           0.01           3.78        63.38        77.59        69.77    0.70\n",
            "\u001b[38;5;2m✔ Saved pipeline to output directory\u001b[0m\n",
            "training/model-last\n"
          ]
        }
      ]
    },
    {
      "cell_type": "code",
      "source": [
        "!spacy project run train_cpu"
      ],
      "metadata": {
        "colab": {
          "base_uri": "https://localhost:8080/"
        },
        "id": "bHrCofPhzDpi",
        "outputId": "7db16ede-b16e-4563-f536-7223b31ec4a1"
      },
      "execution_count": 21,
      "outputs": [
        {
          "output_type": "stream",
          "name": "stdout",
          "text": [
            "\u001b[1m\n",
            "================================= train_cpu =================================\u001b[0m\n",
            "Running command: /usr/bin/python3 -m spacy train configs/rel_tok2vec.cfg --output training --paths.train /content/rel_component/data/rajdeep1_train.spacy --paths.dev /content/rel_component/data/baitalik1.spacy -c ./scripts/custom_functions.py\n",
            "\u001b[38;5;4mℹ Saving to output directory: training\u001b[0m\n",
            "\u001b[38;5;4mℹ Using CPU\u001b[0m\n",
            "\u001b[38;5;4mℹ To switch to GPU 0, use the option: --gpu-id 0\u001b[0m\n",
            "\u001b[1m\n",
            "=========================== Initializing pipeline ===========================\u001b[0m\n",
            "[2022-05-14 06:54:21,346] [INFO] Set up nlp object from config\n",
            "[2022-05-14 06:54:21,359] [INFO] Pipeline: ['tok2vec', 'relation_extractor']\n",
            "[2022-05-14 06:54:21,364] [INFO] Created vocabulary\n",
            "[2022-05-14 06:54:21,366] [INFO] Finished initializing nlp object\n",
            "[2022-05-14 06:54:21,476] [INFO] Initialized pipeline components: ['tok2vec', 'relation_extractor']\n",
            "\u001b[38;5;2m✔ Initialized pipeline\u001b[0m\n",
            "\u001b[1m\n",
            "============================= Training pipeline =============================\u001b[0m\n",
            "\u001b[38;5;4mℹ Pipeline: ['tok2vec', 'relation_extractor']\u001b[0m\n",
            "\u001b[38;5;4mℹ Initial learn rate: 0.001\u001b[0m\n",
            "E    #       LOSS TOK2VEC  LOSS RELAT...  REL_MICRO_P  REL_MICRO_R  REL_MICRO_F  SCORE \n",
            "---  ------  ------------  -------------  -----------  -----------  -----------  ------\n",
            "  0       0          0.09           0.50        25.33        32.76        28.57    0.29\n",
            "136     500          0.28          19.76        59.09        67.24        62.90    0.63\n",
            "355    1000          0.00          18.78        60.00        72.41        65.62    0.66\n",
            "719    1500          0.00          18.93        59.15        72.41        65.12    0.65\n",
            "1219    2000          0.00          19.61        64.18        74.14        68.80    0.69\n",
            "1719    2500          0.00          19.61        63.24        74.14        68.25    0.68\n",
            "2219    3000          0.00          19.61        63.24        74.14        68.25    0.68\n",
            "2719    3500          0.00          19.61        66.10        67.24        66.67    0.67\n",
            "3219    4000          0.00          19.61        66.10        67.24        66.67    0.67\n",
            "3719    4500          0.00          19.61        65.52        65.52        65.52    0.66\n",
            "4219    5000          0.00          19.61        66.10        67.24        66.67    0.67\n",
            "4719    5500          0.00          19.61        66.10        67.24        66.67    0.67\n",
            "5219    6000          0.00          19.61        64.91        63.79        64.35    0.64\n",
            "5719    6500          0.00          19.61        65.52        65.52        65.52    0.66\n",
            "6219    7000          0.00          19.61        64.91        63.79        64.35    0.64\n",
            "6719    7500          0.00          19.61        65.52        65.52        65.52    0.66\n",
            "7219    8000          0.00          19.61        64.41        65.52        64.96    0.65\n",
            "7719    8500          0.00          19.61        63.79        63.79        63.79    0.64\n",
            "8219    9000          0.00          19.61        63.93        67.24        65.55    0.66\n",
            "8719    9500          0.00          19.61        64.41        65.52        64.96    0.65\n",
            "9219   10000          0.00          19.61        64.41        65.52        64.96    0.65\n",
            "\u001b[38;5;2m✔ Saved pipeline to output directory\u001b[0m\n",
            "training/model-last\n"
          ]
        }
      ]
    },
    {
      "cell_type": "code",
      "source": [
        "!spacy project run evaluate"
      ],
      "metadata": {
        "colab": {
          "base_uri": "https://localhost:8080/"
        },
        "id": "J1u0kpnB3P2m",
        "outputId": "631bd6cc-2edf-40a0-e344-5b479d642993"
      },
      "execution_count": 22,
      "outputs": [
        {
          "output_type": "stream",
          "name": "stdout",
          "text": [
            "\u001b[1m\n",
            "================================== evaluate ==================================\u001b[0m\n",
            "Running command: /usr/bin/python3 ./scripts/evaluate.py training/model-best /content/rel_component/data/suvam1.spacy False\n",
            "\n",
            "Random baseline:\n",
            "threshold 0.00 \t {'rel_micro_p': '38.24', 'rel_micro_r': '100.00', 'rel_micro_f': '55.32'}\n",
            "threshold 0.05 \t {'rel_micro_p': '37.69', 'rel_micro_r': '94.23', 'rel_micro_f': '53.85'}\n",
            "threshold 0.10 \t {'rel_micro_p': '37.50', 'rel_micro_r': '92.31', 'rel_micro_f': '53.33'}\n",
            "threshold 0.20 \t {'rel_micro_p': '37.61', 'rel_micro_r': '84.62', 'rel_micro_f': '52.07'}\n",
            "threshold 0.30 \t {'rel_micro_p': '39.05', 'rel_micro_r': '78.85', 'rel_micro_f': '52.23'}\n",
            "threshold 0.40 \t {'rel_micro_p': '39.56', 'rel_micro_r': '69.23', 'rel_micro_f': '50.35'}\n",
            "threshold 0.50 \t {'rel_micro_p': '37.66', 'rel_micro_r': '55.77', 'rel_micro_f': '44.96'}\n",
            "threshold 0.60 \t {'rel_micro_p': '38.71', 'rel_micro_r': '46.15', 'rel_micro_f': '42.11'}\n",
            "threshold 0.70 \t {'rel_micro_p': '44.23', 'rel_micro_r': '44.23', 'rel_micro_f': '44.23'}\n",
            "threshold 0.80 \t {'rel_micro_p': '45.45', 'rel_micro_r': '28.85', 'rel_micro_f': '35.29'}\n",
            "threshold 0.90 \t {'rel_micro_p': '35.00', 'rel_micro_r': '13.46', 'rel_micro_f': '19.44'}\n",
            "threshold 0.99 \t {'rel_micro_p': '25.00', 'rel_micro_r': '1.92', 'rel_micro_f': '3.57'}\n",
            "threshold 1.00 \t {'rel_micro_p': '0.00', 'rel_micro_r': '0.00', 'rel_micro_f': '0.00'}\n",
            "\n",
            "Results of the trained model:\n",
            "threshold 0.00 \t {'rel_micro_p': '38.24', 'rel_micro_r': '100.00', 'rel_micro_f': '55.32'}\n",
            "threshold 0.05 \t {'rel_micro_p': '91.89', 'rel_micro_r': '65.38', 'rel_micro_f': '76.40'}\n",
            "threshold 0.10 \t {'rel_micro_p': '94.29', 'rel_micro_r': '63.46', 'rel_micro_f': '75.86'}\n",
            "threshold 0.20 \t {'rel_micro_p': '94.12', 'rel_micro_r': '61.54', 'rel_micro_f': '74.42'}\n",
            "threshold 0.30 \t {'rel_micro_p': '93.75', 'rel_micro_r': '57.69', 'rel_micro_f': '71.43'}\n",
            "threshold 0.40 \t {'rel_micro_p': '93.75', 'rel_micro_r': '57.69', 'rel_micro_f': '71.43'}\n",
            "threshold 0.50 \t {'rel_micro_p': '93.55', 'rel_micro_r': '55.77', 'rel_micro_f': '69.88'}\n",
            "threshold 0.60 \t {'rel_micro_p': '96.30', 'rel_micro_r': '50.00', 'rel_micro_f': '65.82'}\n",
            "threshold 0.70 \t {'rel_micro_p': '96.15', 'rel_micro_r': '48.08', 'rel_micro_f': '64.10'}\n",
            "threshold 0.80 \t {'rel_micro_p': '96.00', 'rel_micro_r': '46.15', 'rel_micro_f': '62.34'}\n",
            "threshold 0.90 \t {'rel_micro_p': '95.65', 'rel_micro_r': '42.31', 'rel_micro_f': '58.67'}\n",
            "threshold 0.99 \t {'rel_micro_p': '93.33', 'rel_micro_r': '26.92', 'rel_micro_f': '41.79'}\n",
            "threshold 1.00 \t {'rel_micro_p': '100.00', 'rel_micro_r': '15.38', 'rel_micro_f': '26.67'}\n"
          ]
        }
      ]
    },
    {
      "cell_type": "code",
      "source": [
        ""
      ],
      "metadata": {
        "id": "tqs94MWP3uhm"
      },
      "execution_count": null,
      "outputs": []
    }
  ]
}